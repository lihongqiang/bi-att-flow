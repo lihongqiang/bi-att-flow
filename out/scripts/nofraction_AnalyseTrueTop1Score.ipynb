{
 "cells": [
  {
   "cell_type": "code",
   "execution_count": 11,
   "metadata": {},
   "outputs": [
    {
     "data": {
      "text/html": [
       "<div>\n",
       "<style>\n",
       "    .dataframe thead tr:only-child th {\n",
       "        text-align: right;\n",
       "    }\n",
       "\n",
       "    .dataframe thead th {\n",
       "        text-align: left;\n",
       "    }\n",
       "\n",
       "    .dataframe tbody tr th {\n",
       "        vertical-align: top;\n",
       "    }\n",
       "</style>\n",
       "<table border=\"1\" class=\"dataframe\">\n",
       "  <thead>\n",
       "    <tr style=\"text-align: right;\">\n",
       "      <th></th>\n",
       "      <th>id</th>\n",
       "      <th>context</th>\n",
       "      <th>question</th>\n",
       "      <th>ground_truth</th>\n",
       "    </tr>\n",
       "  </thead>\n",
       "  <tbody>\n",
       "    <tr>\n",
       "      <th>0</th>\n",
       "      <td>9200ae8372eadcb43e5cfb816f185ef9</td>\n",
       "      <td>Start Up &amp; Rev of a 2006 Acura RL SH - AWD.Thi...</td>\n",
       "      <td>2006 acura rl horsepower</td>\n",
       "      <td>290 HP</td>\n",
       "    </tr>\n",
       "    <tr>\n",
       "      <th>1</th>\n",
       "      <td>b7d7518b27e56604c9b868ba25565222</td>\n",
       "      <td>The income tax withholding rate remains at 4.2...</td>\n",
       "      <td>2015 michigan withholding tax rate</td>\n",
       "      <td>4.25 %</td>\n",
       "    </tr>\n",
       "    <tr>\n",
       "      <th>2</th>\n",
       "      <td>db5d9db86604d34be584b62c08b00634</td>\n",
       "      <td>The experts at Vidal Sassoon bring you salon c...</td>\n",
       "      <td>5rr hair color</td>\n",
       "      <td>Red</td>\n",
       "    </tr>\n",
       "    <tr>\n",
       "      <th>3</th>\n",
       "      <td>92484e0e63e92f1412854e9516b8f8c3</td>\n",
       "      <td>Effects depend on the substance : hydrogen per...</td>\n",
       "      <td>acid that burns through skin</td>\n",
       "      <td>nitric acid|||hydrogen peroxide</td>\n",
       "    </tr>\n",
       "    <tr>\n",
       "      <th>4</th>\n",
       "      <td>c8dcb86f8c0a1954ecd7931480b29441</td>\n",
       "      <td>Actor Nikolaj Coster - Waldau , the man who pl...</td>\n",
       "      <td>actor who plays jamie lannister</td>\n",
       "      <td>Nikolaj Coster|||Waldau</td>\n",
       "    </tr>\n",
       "  </tbody>\n",
       "</table>\n",
       "</div>"
      ],
      "text/plain": [
       "                                 id  \\\n",
       "0  9200ae8372eadcb43e5cfb816f185ef9   \n",
       "1  b7d7518b27e56604c9b868ba25565222   \n",
       "2  db5d9db86604d34be584b62c08b00634   \n",
       "3  92484e0e63e92f1412854e9516b8f8c3   \n",
       "4  c8dcb86f8c0a1954ecd7931480b29441   \n",
       "\n",
       "                                             context  \\\n",
       "0  Start Up & Rev of a 2006 Acura RL SH - AWD.Thi...   \n",
       "1  The income tax withholding rate remains at 4.2...   \n",
       "2  The experts at Vidal Sassoon bring you salon c...   \n",
       "3  Effects depend on the substance : hydrogen per...   \n",
       "4  Actor Nikolaj Coster - Waldau , the man who pl...   \n",
       "\n",
       "                             question                     ground_truth  \n",
       "0            2006 acura rl horsepower                           290 HP  \n",
       "1  2015 michigan withholding tax rate                           4.25 %  \n",
       "2                      5rr hair color                              Red  \n",
       "3        acid that burns through skin  nitric acid|||hydrogen peroxide  \n",
       "4     actor who plays jamie lannister          Nikolaj Coster|||Waldau  "
      ]
     },
     "execution_count": 11,
     "metadata": {},
     "output_type": "execute_result"
    }
   ],
   "source": [
    "# parse dev data function\n",
    "def ParseJson(data_json):\n",
    "    paragraphs = data_json['data'][0]['paragraphs']\n",
    "    idx_list = list()\n",
    "    context_list = list()\n",
    "    ques_list = list()\n",
    "    ans_list = list()\n",
    "    for para in paragraphs:\n",
    "        context = para['context']\n",
    "        idx = para['qas'][0]['id']\n",
    "        ques = para['qas'][0]['question']\n",
    "        ans = '|||'.join([ans['text'] for ans in para['qas'][0]['answers']])\n",
    "        idx_list.append(idx)\n",
    "        context_list.append(context)\n",
    "        ques_list.append(ques)\n",
    "        ans_list.append(ans)\n",
    "    return idx_list, context_list, ques_list, ans_list\n",
    "\n",
    "# dev data\n",
    "import json\n",
    "dev_file = '/home/t-honli/data/EQnA/dev-v1.1.json' \n",
    "dev_data = json.load(open(dev_file, \"r\"))\n",
    "\n",
    "import pandas as pd\n",
    "idx, context, ques, ans = ParseJson(dev_data)\n",
    "dev_pd = pd.DataFrame({'id':idx, 'context':context, 'question':ques, 'ground_truth':ans}, columns=['id', 'context', 'question', 'ground_truth'])\n",
    "dev_pd.head(5)"
   ]
  },
  {
   "cell_type": "code",
   "execution_count": 12,
   "metadata": {
    "collapsed": true
   },
   "outputs": [],
   "source": [
    "# bidaf ans\n",
    "import json\n",
    "import os\n",
    "file = '/home/t-honli/bi-att-flow/out/EQnA/no_sent_token/01-08-2017/answer/top3.json'\n",
    "bidaf = json.load(open(file, \"r\"))\n",
    "\n",
    "dev_pd['bidaf'] = dev_pd.apply(lambda row: '|||'.join([ phrase+':::'+score for phrase, score in  zip(bidaf[row['id']].split('|||'), bidaf['scores'][row['id']].split('|||'))          ]), axis=1)"
   ]
  },
  {
   "cell_type": "code",
   "execution_count": 13,
   "metadata": {},
   "outputs": [
    {
     "name": "stdout",
     "output_type": "stream",
     "text": [
      "15560\n",
      "15454\n",
      "15454\n"
     ]
    }
   ],
   "source": [
    "# prod model\n",
    "import pandas as pd\n",
    "col_names = ['id', 'Query', 'Url', 'Answer', 'AnswerTokenList', 'ParaseSpan', 'phrase', 'Label', 'Probability']\n",
    "prod = pd.read_csv('/home/t-honli/data/EQnA/EQnA_Highlighting_Test_ProdModel.tsv', header=None, sep='\\t', names=col_names, dtype=str).fillna('')\n",
    "\n",
    "print (len(prod))\n",
    "\n",
    "# 根据answer，query，url生成hash_id\n",
    "import hashlib\n",
    "def GetHashCode(context):\n",
    "    hash = hashlib.md5()\n",
    "    hash.update(context.encode('utf-8'))\n",
    "    return hash.hexdigest()\n",
    "prod['hash_id'] = prod.apply(lambda row: GetHashCode(row['Answer'] + ' ' + row['Query'] + ' ' + row['Url']), axis=1)\n",
    "\n",
    "# filter len >= 32\n",
    "prod = prod[prod.apply(lambda row: len(row['phrase'])<32, axis=1)]\n",
    "print (len(prod))\n",
    "\n",
    "# 获取hash_id, [(phrase,score)]\n",
    "multi_phrase_dict = {}\n",
    "def getPhrase(row):\n",
    "    if row['hash_id'] not in multi_phrase_dict:\n",
    "        multi_phrase_dict[row['hash_id']] = list()\n",
    "    row['Probability'] = '%.4f' % float(row['Probability'])\n",
    "    multi_phrase_dict[row['hash_id']].append(row['phrase'] + \":::\" + row['Probability'])\n",
    "prod.apply(getPhrase, axis=1)\n",
    "print (len(prod))\n",
    "\n",
    "# sort\n",
    "for idx in list(multi_phrase_dict.keys()):\n",
    "    multi_phrase_dict[idx].sort(key=lambda x: float(x.split(':')[-1]), reverse=True)\n",
    "\n",
    "dev_pd['prod'] = dev_pd.apply(lambda row: '|||'.join(multi_phrase_dict[row['id']]), axis=1)"
   ]
  },
  {
   "cell_type": "code",
   "execution_count": 14,
   "metadata": {
    "collapsed": true
   },
   "outputs": [],
   "source": [
    "dev_pd.head(5)\n",
    "total_num = len(dev_pd)"
   ]
  },
  {
   "cell_type": "code",
   "execution_count": 15,
   "metadata": {
    "collapsed": true
   },
   "outputs": [],
   "source": [
    "# filter the true top1\n",
    "import string\n",
    "import re\n",
    "def normalize_answer(s):\n",
    "    \"\"\"Lower text and remove punctuation, articles and extra whitespace.\"\"\"\n",
    "    def remove_articles(text):\n",
    "        return re.sub(r'\\b(a|an|the)\\b', ' ', text)\n",
    "\n",
    "    def white_space_fix(text):\n",
    "        return ' '.join(text.split())\n",
    "\n",
    "    def remove_punc(text):\n",
    "        exclude = set(string.punctuation)\n",
    "        return ''.join(ch for ch in text if ch not in exclude)\n",
    "\n",
    "    def lower(text):\n",
    "        return text.lower()\n",
    "\n",
    "    return white_space_fix(remove_articles(remove_punc(lower(s))))\n",
    "# cover\n",
    "def filterTrueTop1Ans_cover(row):\n",
    "    grounds = row['ground_truth'].split('|||')\n",
    "    bidaf = normalize_answer(row['bidaf'].split('|||')[0].split(':::')[0])\n",
    "    for ground in map(lambda x: normalize_answer(x), grounds):\n",
    "        if bidaf in ground or ground in bidaf:\n",
    "            return True\n",
    "    return False\n",
    "dev_pd = dev_pd[dev_pd.apply(filterTrueTop1Ans_cover, axis=1)]"
   ]
  },
  {
   "cell_type": "code",
   "execution_count": 16,
   "metadata": {},
   "outputs": [
    {
     "data": {
      "image/png": "[encoded data removed]",
      "text/plain": [
       "<matplotlib.figure.Figure at 0x7f0a827ac518>"
      ]
     },
     "metadata": {},
     "output_type": "display_data"
    },
    {
     "name": "stdout",
     "output_type": "stream",
     "text": [
      "Total true： 1769\n",
      "Total num： 2021\n"
     ]
    }
   ],
   "source": [
    "# 统计所有bidaf第一个answer的socre分布\n",
    "def getBidafTop1Score(row):\n",
    "    return float(row['bidaf'].split('|||')[0].split(':::')[1])\n",
    "bidaf_top1_score = dev_pd.apply(getBidafTop1Score, axis=1).values\n",
    "\n",
    "import matplotlib.pyplot as plt\n",
    "%matplotlib inline \n",
    "plt.figure(0, figsize=(10,10))\n",
    "\n",
    "plt.subplot(211)\n",
    "plt.title('Numbers of The Bidaf Score')\n",
    "plt.hist(bidaf_top1_score, bins=200)\n",
    "\n",
    "plt.subplot(212)\n",
    "plt.title('Cumulative Numbers of The Bidaf Score')\n",
    "plt.hist(bidaf_top1_score, bins=200, cumulative=True)\n",
    "\n",
    "plt.show()\n",
    "print ('Total true：', len(bidaf_top1_score))\n",
    "print ('Total num：', total_num)"
   ]
  },
  {
   "cell_type": "code",
   "execution_count": 17,
   "metadata": {},
   "outputs": [
    {
     "data": {
      "image/png": "[encoded data removed]",
      "text/plain": [
       "<matplotlib.figure.Figure at 0x7f0a82775da0>"
      ]
     },
     "metadata": {},
     "output_type": "display_data"
    },
    {
     "name": "stdout",
     "output_type": "stream",
     "text": [
      "Total： 1070\n"
     ]
    }
   ],
   "source": [
    "# 统计ground truth 为 1个slot的bibaf的top1的score分布\n",
    "\n",
    "dev_pd_one_slot = dev_pd[dev_pd.apply(lambda x: len(x['ground_truth'].split('|||'))==1, axis=1)]\n",
    "def getBidafTop1Score(row):\n",
    "    return float(row['bidaf'].split('|||')[0].split(':::')[1])\n",
    "bidaf_top1_score = dev_pd_one_slot.apply(getBidafTop1Score, axis=1).values\n",
    "\n",
    "import matplotlib.pyplot as plt\n",
    "%matplotlib inline \n",
    "plt.figure(0, figsize=(10,10))\n",
    "\n",
    "plt.subplot(211)\n",
    "plt.title('Numbers of The Bidaf Score in one slot')\n",
    "plt.hist(bidaf_top1_score, bins=200)\n",
    "\n",
    "plt.subplot(212)\n",
    "plt.title('Cumulative Numbers of The Bidaf Score')\n",
    "plt.hist(bidaf_top1_score, bins=200, cumulative=True)\n",
    "\n",
    "plt.show()\n",
    "print ('Total：', len(bidaf_top1_score))"
   ]
  },
  {
   "cell_type": "code",
   "execution_count": 18,
   "metadata": {},
   "outputs": [
    {
     "data": {
      "image/png": "[encoded data removed]",
      "text/plain": [
       "<matplotlib.figure.Figure at 0x7f0a82a42588>"
      ]
     },
     "metadata": {},
     "output_type": "display_data"
    },
    {
     "name": "stdout",
     "output_type": "stream",
     "text": [
      "Total： 699\n"
     ]
    }
   ],
   "source": [
    "# 统计ground truth 为 多个slot的bibaf的top1的score分布\n",
    "dev_pd_multi_slot = dev_pd[dev_pd.apply(lambda x: len(x['ground_truth'].split('|||'))>1, axis=1)]\n",
    "def getBidafTop1Score(row):\n",
    "    return float(row['bidaf'].split('|||')[0].split(':::')[1])\n",
    "bidaf_top1_score = dev_pd_multi_slot.apply(getBidafTop1Score, axis=1).values\n",
    "\n",
    "import matplotlib.pyplot as plt\n",
    "%matplotlib inline \n",
    "plt.figure(0, figsize=(10,10))\n",
    "\n",
    "plt.subplot(211)\n",
    "plt.title('Numbers of The Bidaf Score in multi slot')\n",
    "plt.hist(bidaf_top1_score, bins=200)\n",
    "\n",
    "plt.subplot(212)\n",
    "plt.title('Cumulative Numbers of The Bidaf Score')\n",
    "plt.hist(bidaf_top1_score, bins=200, cumulative=True)\n",
    "\n",
    "plt.show()\n",
    "print ('Total：', len(bidaf_top1_score))"
   ]
  }
 ],
 "metadata": {
  "kernelspec": {
   "display_name": "Python 3",
   "language": "python",
   "name": "python3"
  },
  "language_info": {
   "codemirror_mode": {
    "name": "ipython",
    "version": 3
   },
   "file_extension": ".py",
   "mimetype": "text/x-python",
   "name": "python",
   "nbconvert_exporter": "python",
   "pygments_lexer": "ipython3",
   "version": "3.5.3"
  }
 },
 "nbformat": 4,
 "nbformat_minor": 2
}
