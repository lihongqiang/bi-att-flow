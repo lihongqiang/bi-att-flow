{
 "cells": [
  {
   "cell_type": "code",
   "execution_count": 1,
   "metadata": {
    "collapsed": true
   },
   "outputs": [],
   "source": [
    "# parse dev data function\n",
    "def ParseJson(data_json):\n",
    "    paragraphs = data_json['data'][0]['paragraphs']\n",
    "    idx_list = list()\n",
    "    context_list = list()\n",
    "    ques_list = list()\n",
    "    ans_list = list()\n",
    "    for para in paragraphs:\n",
    "        context = para['context']\n",
    "        idx = para['qas'][0]['id']\n",
    "        ques = para['qas'][0]['question']\n",
    "        ans = '|'.join([ans['text'] for ans in para['qas'][0]['answers']])\n",
    "        idx_list.append(idx)\n",
    "        context_list.append(context)\n",
    "        ques_list.append(ques)\n",
    "        ans_list.append(ans)\n",
    "    return idx_list, context_list, ques_list, ans_list"
   ]
  },
  {
   "cell_type": "code",
   "execution_count": 4,
   "metadata": {},
   "outputs": [],
   "source": [
    "# dev data\n",
    "import json\n",
    "dev_file = '/home/t-honli/data/EQnA/dev-v1.1.json' \n",
    "dev_data = json.load(open(dev_file, \"r\"))"
   ]
  },
  {
   "cell_type": "code",
   "execution_count": 5,
   "metadata": {},
   "outputs": [
    {
     "data": {
      "text/html": [
       "<div>\n",
       "<style>\n",
       "    .dataframe thead tr:only-child th {\n",
       "        text-align: right;\n",
       "    }\n",
       "\n",
       "    .dataframe thead th {\n",
       "        text-align: left;\n",
       "    }\n",
       "\n",
       "    .dataframe tbody tr th {\n",
       "        vertical-align: top;\n",
       "    }\n",
       "</style>\n",
       "<table border=\"1\" class=\"dataframe\">\n",
       "  <thead>\n",
       "    <tr style=\"text-align: right;\">\n",
       "      <th></th>\n",
       "      <th>id</th>\n",
       "      <th>context</th>\n",
       "      <th>question</th>\n",
       "      <th>ground_truth</th>\n",
       "    </tr>\n",
       "  </thead>\n",
       "  <tbody>\n",
       "    <tr>\n",
       "      <th>0</th>\n",
       "      <td>2abdda92eac7f6b73d9b238f503e4219</td>\n",
       "      <td>Start Up &amp; Rev of a 2006 Acura RL SH - AWD.Thi...</td>\n",
       "      <td>2006 acura rl horsepower</td>\n",
       "      <td>290 HP</td>\n",
       "    </tr>\n",
       "    <tr>\n",
       "      <th>1</th>\n",
       "      <td>f26402275d1f070d15e951a3ec04dacb</td>\n",
       "      <td>The income tax withholding rate remains at 4.2...</td>\n",
       "      <td>2015 michigan withholding tax rate</td>\n",
       "      <td>4.25 %</td>\n",
       "    </tr>\n",
       "    <tr>\n",
       "      <th>2</th>\n",
       "      <td>125674965d00b4087f076223745f1ad5</td>\n",
       "      <td>The experts at Vidal Sassoon bring you salon c...</td>\n",
       "      <td>5rr hair color</td>\n",
       "      <td>Red</td>\n",
       "    </tr>\n",
       "    <tr>\n",
       "      <th>3</th>\n",
       "      <td>b153122979cdb753b1466ac8145758c9</td>\n",
       "      <td>Effects depend on the substance : hydrogen per...</td>\n",
       "      <td>acid that burns through skin</td>\n",
       "      <td>nitric acid|hydrogen peroxide</td>\n",
       "    </tr>\n",
       "    <tr>\n",
       "      <th>4</th>\n",
       "      <td>f5d4a08ddf0aba6cab1ea9ae6bd1f26b</td>\n",
       "      <td>Actor Nikolaj Coster - Waldau , the man who pl...</td>\n",
       "      <td>actor who plays jamie lannister</td>\n",
       "      <td>Nikolaj Coster|Waldau</td>\n",
       "    </tr>\n",
       "  </tbody>\n",
       "</table>\n",
       "</div>"
      ],
      "text/plain": [
       "                                 id  \\\n",
       "0  2abdda92eac7f6b73d9b238f503e4219   \n",
       "1  f26402275d1f070d15e951a3ec04dacb   \n",
       "2  125674965d00b4087f076223745f1ad5   \n",
       "3  b153122979cdb753b1466ac8145758c9   \n",
       "4  f5d4a08ddf0aba6cab1ea9ae6bd1f26b   \n",
       "\n",
       "                                             context  \\\n",
       "0  Start Up & Rev of a 2006 Acura RL SH - AWD.Thi...   \n",
       "1  The income tax withholding rate remains at 4.2...   \n",
       "2  The experts at Vidal Sassoon bring you salon c...   \n",
       "3  Effects depend on the substance : hydrogen per...   \n",
       "4  Actor Nikolaj Coster - Waldau , the man who pl...   \n",
       "\n",
       "                             question                   ground_truth  \n",
       "0            2006 acura rl horsepower                         290 HP  \n",
       "1  2015 michigan withholding tax rate                         4.25 %  \n",
       "2                      5rr hair color                            Red  \n",
       "3        acid that burns through skin  nitric acid|hydrogen peroxide  \n",
       "4     actor who plays jamie lannister          Nikolaj Coster|Waldau  "
      ]
     },
     "execution_count": 5,
     "metadata": {},
     "output_type": "execute_result"
    }
   ],
   "source": [
    "import pandas as pd\n",
    "idx, context, ques, ans = ParseJson(dev_data)\n",
    "dev_pd = pd.DataFrame({'id':idx, 'context':context, 'question':ques, 'ground_truth':ans}, columns=['id', 'context', 'question', 'ground_truth'])\n",
    "dev_pd.head(5)"
   ]
  },
  {
   "cell_type": "code",
   "execution_count": 6,
   "metadata": {
    "collapsed": true
   },
   "outputs": [],
   "source": [
    "# bidaf ans\n",
    "import json\n",
    "import os\n",
    "file = '/home/t-honli/bi-att-flow/out/EQnA/no_sent_token/01-08-2017/answer/test-020000.json'\n",
    "bidaf = json.load(open(file, \"r\"))"
   ]
  },
  {
   "cell_type": "code",
   "execution_count": 7,
   "metadata": {
    "collapsed": true
   },
   "outputs": [],
   "source": [
    "dev_pd['bidaf'] = dev_pd.apply(lambda row: bidaf[row['id']], axis=1)"
   ]
  },
  {
   "cell_type": "code",
   "execution_count": 33,
   "metadata": {},
   "outputs": [],
   "source": [
    "dev_pd['bidaf'] = dev_pd.apply(lambda row: '|||'.join([ phrase+':::'+score for phrase, score in  zip(bidaf[row['id']].split('|||'), str(bidaf['scores'][row['id']]).split('|||'))          ]), axis=1)"
   ]
  },
  {
   "cell_type": "code",
   "execution_count": 34,
   "metadata": {},
   "outputs": [
    {
     "data": {
      "text/html": [
       "<div>\n",
       "<style>\n",
       "    .dataframe thead tr:only-child th {\n",
       "        text-align: right;\n",
       "    }\n",
       "\n",
       "    .dataframe thead th {\n",
       "        text-align: left;\n",
       "    }\n",
       "\n",
       "    .dataframe tbody tr th {\n",
       "        vertical-align: top;\n",
       "    }\n",
       "</style>\n",
       "<table border=\"1\" class=\"dataframe\">\n",
       "  <thead>\n",
       "    <tr style=\"text-align: right;\">\n",
       "      <th></th>\n",
       "      <th>id</th>\n",
       "      <th>context</th>\n",
       "      <th>question</th>\n",
       "      <th>ground_truth</th>\n",
       "      <th>bidaf</th>\n",
       "    </tr>\n",
       "  </thead>\n",
       "  <tbody>\n",
       "    <tr>\n",
       "      <th>0</th>\n",
       "      <td>2abdda92eac7f6b73d9b238f503e4219</td>\n",
       "      <td>Start Up &amp; Rev of a 2006 Acura RL SH - AWD.This has a 3.5L V6 making a decent 290 HP while paired to a 5 Speed Auto.The interior in this was very classy , roomy , &amp; Comfortable .</td>\n",
       "      <td>2006 acura rl horsepower</td>\n",
       "      <td>290 HP</td>\n",
       "      <td>290 HP:::0.37020477652549744</td>\n",
       "    </tr>\n",
       "    <tr>\n",
       "      <th>1</th>\n",
       "      <td>f26402275d1f070d15e951a3ec04dacb</td>\n",
       "      <td>The income tax withholding rate remains at 4.25 % for tax year 2015 . However , the personal exemption amount for tax year 2015 will change to $4,000 . You may continue to use 2014 Michigan Income...</td>\n",
       "      <td>2015 michigan withholding tax rate</td>\n",
       "      <td>4.25 %</td>\n",
       "      <td>4.25 %:::0.945091724395752</td>\n",
       "    </tr>\n",
       "    <tr>\n",
       "      <th>2</th>\n",
       "      <td>125674965d00b4087f076223745f1ad5</td>\n",
       "      <td>The experts at Vidal Sassoon bring you salon color expertise with this Vidal Sassoon Pro Series Hair Color in 5RR Medium Vibrant Red . It offers 100 percent gray coverage in a permanent color form...</td>\n",
       "      <td>5rr hair color</td>\n",
       "      <td>Red</td>\n",
       "      <td>gray:::0.5498008131980896</td>\n",
       "    </tr>\n",
       "    <tr>\n",
       "      <th>3</th>\n",
       "      <td>b153122979cdb753b1466ac8145758c9</td>\n",
       "      <td>Effects depend on the substance : hydrogen peroxide removes a bleached layer of skin , while nitric acid causes a characteristic color change to yellow in the skin . Chemical burns may occur throu...</td>\n",
       "      <td>acid that burns through skin</td>\n",
       "      <td>nitric acid|hydrogen peroxide</td>\n",
       "      <td>hydrogen peroxide:::0.4090457260608673</td>\n",
       "    </tr>\n",
       "    <tr>\n",
       "      <th>4</th>\n",
       "      <td>f5d4a08ddf0aba6cab1ea9ae6bd1f26b</td>\n",
       "      <td>Actor Nikolaj Coster - Waldau , the man who plays Jaime Lannister in HBO 's popular television series Game Of Thrones , has been spotted in Hobart , where he has spent time taking in the city 's c...</td>\n",
       "      <td>actor who plays jamie lannister</td>\n",
       "      <td>Nikolaj Coster|Waldau</td>\n",
       "      <td>Waldau:::0.32978367805480957</td>\n",
       "    </tr>\n",
       "  </tbody>\n",
       "</table>\n",
       "</div>"
      ],
      "text/plain": [
       "                                 id  \\\n",
       "0  2abdda92eac7f6b73d9b238f503e4219   \n",
       "1  f26402275d1f070d15e951a3ec04dacb   \n",
       "2  125674965d00b4087f076223745f1ad5   \n",
       "3  b153122979cdb753b1466ac8145758c9   \n",
       "4  f5d4a08ddf0aba6cab1ea9ae6bd1f26b   \n",
       "\n",
       "                                                                                                                                                                                                   context  \\\n",
       "0                       Start Up & Rev of a 2006 Acura RL SH - AWD.This has a 3.5L V6 making a decent 290 HP while paired to a 5 Speed Auto.The interior in this was very classy , roomy , & Comfortable .   \n",
       "1  The income tax withholding rate remains at 4.25 % for tax year 2015 . However , the personal exemption amount for tax year 2015 will change to $4,000 . You may continue to use 2014 Michigan Income...   \n",
       "2  The experts at Vidal Sassoon bring you salon color expertise with this Vidal Sassoon Pro Series Hair Color in 5RR Medium Vibrant Red . It offers 100 percent gray coverage in a permanent color form...   \n",
       "3  Effects depend on the substance : hydrogen peroxide removes a bleached layer of skin , while nitric acid causes a characteristic color change to yellow in the skin . Chemical burns may occur throu...   \n",
       "4  Actor Nikolaj Coster - Waldau , the man who plays Jaime Lannister in HBO 's popular television series Game Of Thrones , has been spotted in Hobart , where he has spent time taking in the city 's c...   \n",
       "\n",
       "                             question                   ground_truth  \\\n",
       "0            2006 acura rl horsepower                         290 HP   \n",
       "1  2015 michigan withholding tax rate                         4.25 %   \n",
       "2                      5rr hair color                            Red   \n",
       "3        acid that burns through skin  nitric acid|hydrogen peroxide   \n",
       "4     actor who plays jamie lannister          Nikolaj Coster|Waldau   \n",
       "\n",
       "                                    bidaf  \n",
       "0            290 HP:::0.37020477652549744  \n",
       "1              4.25 %:::0.945091724395752  \n",
       "2               gray:::0.5498008131980896  \n",
       "3  hydrogen peroxide:::0.4090457260608673  \n",
       "4            Waldau:::0.32978367805480957  "
      ]
     },
     "execution_count": 34,
     "metadata": {},
     "output_type": "execute_result"
    }
   ],
   "source": [
    "pd.set_option('max_colwidth', 200)\n",
    "dev_pd.head(5)"
   ]
  },
  {
   "cell_type": "code",
   "execution_count": 39,
   "metadata": {},
   "outputs": [
    {
     "name": "stdout",
     "output_type": "stream",
     "text": [
      "not cover/total = 254/2021\n"
     ]
    }
   ],
   "source": [
    "# cover\n",
    "def filter_not_cover(row):\n",
    "    grounds = row['ground_truth'].split('|')\n",
    "    bidaf = row['bidaf'].split(':::')[0]\n",
    "    for ground in grounds:\n",
    "        if bidaf in ground or ground in bidaf:\n",
    "            return False\n",
    "    return True\n",
    "notcover = dev_pd[dev_pd.apply(filter_not_cover, axis=1)]\n",
    "print ('not cover/total = {}/{}'.format(len(notcover), len(dev_pd)))"
   ]
  },
  {
   "cell_type": "code",
   "execution_count": 40,
   "metadata": {},
   "outputs": [
    {
     "name": "stdout",
     "output_type": "stream",
     "text": [
      "not match/total = 254/2021\n"
     ]
    }
   ],
   "source": [
    "# not match\n",
    "def filter_not_match(row):\n",
    "    grounds = row['ground_truth'].split('|')\n",
    "    bidaf = row['bidaf'].split(':::')[0]\n",
    "    for ground in grounds:\n",
    "        if bidaf == ground:\n",
    "            return False\n",
    "    return True\n",
    "notmatch = dev_pd[dev_pd.apply(filter_not_match, axis=1)]\n",
    "print ('not match/total = {}/{}'.format(len(notcover), len(dev_pd)))"
   ]
  },
  {
   "cell_type": "code",
   "execution_count": 37,
   "metadata": {},
   "outputs": [
    {
     "name": "stdout",
     "output_type": "stream",
     "text": [
      "cover not match/total = 188/2021\n"
     ]
    }
   ],
   "source": [
    "# cover - match\n",
    "def filter_cover_not_match(row):\n",
    "    grounds = row['ground_truth'].split('|')\n",
    "    bidaf = row['bidaf'].split(':::')[0]\n",
    "    cover = False\n",
    "    match = False\n",
    "    for ground in grounds:\n",
    "        if bidaf in ground or ground in bidaf:\n",
    "            cover = True\n",
    "        if bidaf == ground:\n",
    "            match = True\n",
    "    return cover and (not match)\n",
    "cover_notmatch = dev_pd[dev_pd.apply(filter_cover_not_match, axis=1)]\n",
    "print ('cover not match/total = {}/{}'.format(len(cover_notmatch), len(dev_pd)))"
   ]
  },
  {
   "cell_type": "code",
   "execution_count": 41,
   "metadata": {},
   "outputs": [],
   "source": [
    "cover_notmatch.to_csv('./cover_vs_match/cover_notmatch.tsv', header=True, index=None, sep='\\t')\n",
    "notcover.to_csv('./cover_vs_match/notcover.tsv', header=True, index=None, sep='\\t')"
   ]
  },
  {
   "cell_type": "code",
   "execution_count": 23,
   "metadata": {},
   "outputs": [
    {
     "data": {
      "text/html": [
       "<div>\n",
       "<style>\n",
       "    .dataframe thead tr:only-child th {\n",
       "        text-align: right;\n",
       "    }\n",
       "\n",
       "    .dataframe thead th {\n",
       "        text-align: left;\n",
       "    }\n",
       "\n",
       "    .dataframe tbody tr th {\n",
       "        vertical-align: top;\n",
       "    }\n",
       "</style>\n",
       "<table border=\"1\" class=\"dataframe\">\n",
       "  <thead>\n",
       "    <tr style=\"text-align: right;\">\n",
       "      <th></th>\n",
       "      <th>id</th>\n",
       "      <th>context</th>\n",
       "      <th>question</th>\n",
       "      <th>ground_truth</th>\n",
       "      <th>bidaf</th>\n",
       "    </tr>\n",
       "  </thead>\n",
       "  <tbody>\n",
       "    <tr>\n",
       "      <th>760</th>\n",
       "      <td>ae192473cf0f4221f7ec19dfeda40604</td>\n",
       "      <td>Recent home sales , real estate maps , and home value estimator for zip code 78624</td>\n",
       "      <td>what is the zip code for fredericksburg tx</td>\n",
       "      <td>78624</td>\n",
       "      <td></td>\n",
       "    </tr>\n",
       "  </tbody>\n",
       "</table>\n",
       "</div>"
      ],
      "text/plain": [
       "                                   id  \\\n",
       "760  ae192473cf0f4221f7ec19dfeda40604   \n",
       "\n",
       "                                                                                context  \\\n",
       "760  Recent home sales , real estate maps , and home value estimator for zip code 78624   \n",
       "\n",
       "                                       question ground_truth bidaf  \n",
       "760  what is the zip code for fredericksburg tx        78624        "
      ]
     },
     "execution_count": 23,
     "metadata": {},
     "output_type": "execute_result"
    }
   ],
   "source": [
    "dev_pd[dev_pd['question'] == 'what is the zip code for fredericksburg tx']"
   ]
  },
  {
   "cell_type": "code",
   "execution_count": 24,
   "metadata": {},
   "outputs": [
    {
     "data": {
      "text/html": [
       "<div>\n",
       "<style>\n",
       "    .dataframe thead tr:only-child th {\n",
       "        text-align: right;\n",
       "    }\n",
       "\n",
       "    .dataframe thead th {\n",
       "        text-align: left;\n",
       "    }\n",
       "\n",
       "    .dataframe tbody tr th {\n",
       "        vertical-align: top;\n",
       "    }\n",
       "</style>\n",
       "<table border=\"1\" class=\"dataframe\">\n",
       "  <thead>\n",
       "    <tr style=\"text-align: right;\">\n",
       "      <th></th>\n",
       "      <th>id</th>\n",
       "      <th>context</th>\n",
       "      <th>question</th>\n",
       "      <th>ground_truth</th>\n",
       "      <th>bidaf</th>\n",
       "    </tr>\n",
       "  </thead>\n",
       "  <tbody>\n",
       "    <tr>\n",
       "      <th>885</th>\n",
       "      <td>cb345213a804045b5fadbf5c18b58577</td>\n",
       "      <td>Although the \" Tonight Show \" airs locally at 11 : 35 PM ( on KNBC , Channel 4 ) , the show is actually taped much earlier on the same day , usually from 5 PM to 6 PM , Tuesday through Friday on m...</td>\n",
       "      <td>what time does the tonight show begin</td>\n",
       "      <td>11 : 35 PM</td>\n",
       "      <td>11</td>\n",
       "    </tr>\n",
       "  </tbody>\n",
       "</table>\n",
       "</div>"
      ],
      "text/plain": [
       "                                   id  \\\n",
       "885  cb345213a804045b5fadbf5c18b58577   \n",
       "\n",
       "                                                                                                                                                                                                     context  \\\n",
       "885  Although the \" Tonight Show \" airs locally at 11 : 35 PM ( on KNBC , Channel 4 ) , the show is actually taped much earlier on the same day , usually from 5 PM to 6 PM , Tuesday through Friday on m...   \n",
       "\n",
       "                                  question ground_truth bidaf  \n",
       "885  what time does the tonight show begin   11 : 35 PM    11  "
      ]
     },
     "execution_count": 24,
     "metadata": {},
     "output_type": "execute_result"
    }
   ],
   "source": [
    "dev_pd[dev_pd['question'] == 'what time does the tonight show begin']"
   ]
  },
  {
   "cell_type": "code",
   "execution_count": 30,
   "metadata": {},
   "outputs": [
    {
     "data": {
      "text/html": [
       "<div>\n",
       "<style>\n",
       "    .dataframe thead tr:only-child th {\n",
       "        text-align: right;\n",
       "    }\n",
       "\n",
       "    .dataframe thead th {\n",
       "        text-align: left;\n",
       "    }\n",
       "\n",
       "    .dataframe tbody tr th {\n",
       "        vertical-align: top;\n",
       "    }\n",
       "</style>\n",
       "<table border=\"1\" class=\"dataframe\">\n",
       "  <thead>\n",
       "    <tr style=\"text-align: right;\">\n",
       "      <th></th>\n",
       "      <th>id</th>\n",
       "      <th>context</th>\n",
       "      <th>question</th>\n",
       "      <th>ground_truth</th>\n",
       "      <th>bidaf</th>\n",
       "    </tr>\n",
       "  </thead>\n",
       "  <tbody>\n",
       "  </tbody>\n",
       "</table>\n",
       "</div>"
      ],
      "text/plain": [
       "Empty DataFrame\n",
       "Columns: [id, context, question, ground_truth, bidaf]\n",
       "Index: []"
      ]
     },
     "execution_count": 30,
     "metadata": {},
     "output_type": "execute_result"
    }
   ],
   "source": [
    "dev_pd[dev_pd['question'] == 'how long is your long intestine'].apply(filter_not_cover, axis=1)\n",
    "notcover[notcover['question'] == 'how long is your long intestine']"
   ]
  }
 ],
 "metadata": {
  "kernelspec": {
   "display_name": "Python 3",
   "language": "python",
   "name": "python3"
  },
  "language_info": {
   "codemirror_mode": {
    "name": "ipython",
    "version": 3
   },
   "file_extension": ".py",
   "mimetype": "text/x-python",
   "name": "python",
   "nbconvert_exporter": "python",
   "pygments_lexer": "ipython3",
   "version": "3.5.3"
  }
 },
 "nbformat": 4,
 "nbformat_minor": 2
}
