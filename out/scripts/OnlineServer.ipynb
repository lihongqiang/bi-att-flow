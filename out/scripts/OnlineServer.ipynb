{
 "cells": [
  {
   "cell_type": "code",
   "execution_count": 1,
   "metadata": {
    "collapsed": true
   },
   "outputs": [],
   "source": [
    "context = \"\"\"The Great Wall stretches from Dandong in the east to Lop Lake in the west, along an arc that roughly delineates the southern edge of Inner Mongolia. A comprehensive archaeological survey, using advanced technologies, has concluded that the Ming walls measure 8,850 km (5,500 mi).[4] This is made up of 6,259 km (3,889 mi) sections of actual wall, 359 km (223 mi) of trenches and 2,232 km (1,387 mi) of natural defensive barriers such as hills and rivers.[4] Another archaeological survey found that the entire wall with all of its branches measure out to be 21,196 km (13,171 mi).[5]\"\"\"\n",
    "query = \"Ming walls long\"\n",
    "answer = \"\""
   ]
  },
  {
   "cell_type": "code",
   "execution_count": 2,
   "metadata": {
    "scrolled": true
   },
   "outputs": [
    {
     "name": "stdout",
     "output_type": "stream",
     "text": [
      "The Great Wall stretches from Dandong in the east to Lop Lake in the west, along an arc that roughly delineates the southern edge of Inner Mongolia. A comprehensive archaeological survey, using advanced technologies, has concluded that the Ming walls measure 8,850 km (5,500 mi).[4] This is made up of 6,259 km (3,889 mi) sections of actual wall, 359 km (223 mi) of trenches and 2,232 km (1,387 mi) of natural defensive barriers such as hills and rivers.[4] Another archaeological survey found that the entire wall with all of its branches measure out to be 21,196 km (13,171 mi).[5]\n"
     ]
    }
   ],
   "source": [
    "print (context)"
   ]
  },
  {
   "cell_type": "code",
   "execution_count": 3,
   "metadata": {
    "collapsed": true
   },
   "outputs": [],
   "source": [
    "# trans to data json\n",
    "import pandas as pd\n",
    "online_data = pd.DataFrame({\"Query\":query, \"Context\":context, \"phrase\":answer}, columns=[\"Query\", \"Context\", \"phrase\"], index=[0])\n",
    "\n",
    "import hashlib\n",
    "def GetHashCode(context):\n",
    "    hash = hashlib.md5()\n",
    "    hash.update(context.encode('utf-8'))\n",
    "    return hash.hexdigest()\n",
    "\n",
    "import json\n",
    "import os\n",
    "\n",
    "# 只处理lable为1的row\n",
    "target_dev_data = {}\n",
    "target_dev_data['version'] = '1.1'\n",
    "target_dev_data['data'] = list()\n",
    "\n",
    "item = {}\n",
    "item['paragraphs'] = list()\n",
    "item['title'] = 'Online'\n",
    "\n",
    "# 处理一个context对应一个quesiton，对应多个answer的情况\n",
    "paragraphs_dict = {}\n",
    "\n",
    "num = 0\n",
    "\n",
    "def transEachRow(row):\n",
    "        \n",
    "    # 新生成的context\n",
    "    paragraph = {}\n",
    "    paragraph['qas'] = list()\n",
    "    paragraph['context'] = row['Context'].strip()\n",
    "\n",
    "    phrase = {}\n",
    "    phrase['id'] = GetHashCode(row['Context'] + ' ' + row['Query'])\n",
    "    phrase['question'] = row['Query'].strip()\n",
    "    phrase['answers'] = list()\n",
    "\n",
    "    phrase_answer = {}\n",
    "\n",
    "    row['phrase'] = row['phrase'].strip()  # phrase 可能含有空格\n",
    "    phrase_answer['text'] = row['phrase']\n",
    "\n",
    "    # 过滤长度大于32的phrase\n",
    "    global num\n",
    "    if len(row['phrase']) >= 32:\n",
    "        num += 1\n",
    "        return \n",
    "\n",
    "    phrase_answer['answer_start'] = paragraph['context'].find(row['phrase'])\n",
    "    if phrase_answer['answer_start'] == -1:\n",
    "        print (paragraph['context'])\n",
    "        print (row['phrase'])\n",
    "        print (row)\n",
    "        print (row.values)\n",
    "        print \n",
    "    phrase['answers'].append(phrase_answer)\n",
    "\n",
    "    paragraph['qas'].append(phrase)\n",
    "\n",
    "    paragraph_key = GetHashCode(paragraph['context'])\n",
    "    # 判断是否存在该context， 一个context只有一个quesiotn\n",
    "    if paragraph_key not in paragraphs_dict:\n",
    "        paragraphs_dict[paragraph_key] = paragraph\n",
    "    else:\n",
    "        paragraphs_dict[paragraph_key]['qas'][0]['answers'].append(phrase_answer)\n",
    "\n",
    "online_data.apply(transEachRow, axis=1)\n",
    "item['paragraphs'] = list(paragraphs_dict.values())\n",
    "\n",
    "# print (len(list(paragraphs_dict.values())))\n",
    "target_dev_data['data'].append(item)\n",
    "\n",
    "# print (target_dev_data)\n",
    "target_dev_path = '/home/t-honli/data/online/online.json'\n",
    "json.dump(target_dev_data, open(target_dev_path, 'w'))\n",
    "\n",
    "# print ('phrase length >= 32: %d' % (num))"
   ]
  },
  {
   "cell_type": "code",
   "execution_count": 4,
   "metadata": {},
   "outputs": [
    {
     "data": {
      "text/plain": [
       "256"
      ]
     },
     "execution_count": 4,
     "metadata": {},
     "output_type": "execute_result"
    }
   ],
   "source": [
    "# prepro json to test data\n",
    "import os\n",
    "prepro_file = 'squad.prepro'\n",
    "source_dir = '/home/t-honli/data/online'\n",
    "target_dir = '/home/t-honli/bi-att-flow/data/online'\n",
    "file_name = 'online.json'\n",
    "\n",
    "# change workspace\n",
    "work_dir = '/home/t-honli/bi-att-flow'\n",
    "os.chdir(work_dir)\n",
    "\n",
    "os.system(\"python -m {} --online=True --data_file={} --source_dir={} --target_dir={}\".format(prepro_file, file_name, source_dir, target_dir))"
   ]
  },
  {
   "cell_type": "code",
   "execution_count": 5,
   "metadata": {},
   "outputs": [
    {
     "data": {
      "text/plain": [
       "256"
      ]
     },
     "execution_count": 5,
     "metadata": {},
     "output_type": "execute_result"
    }
   ],
   "source": [
    "# test data  python -m basic.cli --len_opt --cluster --data_dir=data/online --online=True\n",
    "data_dir = 'data/online'\n",
    "ans_num = 2\n",
    "os.system(\"python -m basic.cli --len_opt --cluster --data_dir={} --online=True --topk=2\".format(data_dir))"
   ]
  },
  {
   "cell_type": "code",
   "execution_count": 6,
   "metadata": {},
   "outputs": [
    {
     "name": "stdout",
     "output_type": "stream",
     "text": [
      "8,850 km 0.0238\n",
      "6,259 km 0.0173\n"
     ]
    }
   ],
   "source": [
    "# show answer\n",
    "import json\n",
    "answer_dir = '/home/t-honli/bi-att-flow/out/EQnA/03-07-2017/answer'\n",
    "name = 'online-020000.json'\n",
    "answer = json.load(open(os.path.join(answer_dir, name), \"r\"))\n",
    "for key,val in list(answer.items()):\n",
    "    if key != 'scores':\n",
    "        phrases = val.split('|')\n",
    "        scores = answer['scores'][key].split('|')\n",
    "        for phrase, score in zip(phrases, scores):\n",
    "            print (phrase, score)"
   ]
  },
  {
   "cell_type": "code",
   "execution_count": 10,
   "metadata": {},
   "outputs": [
    {
     "name": "stdout",
     "output_type": "stream",
     "text": [
      "2017-07-07_12:43:01\n"
     ]
    }
   ],
   "source": [
    "import time\n",
    "ISOTIMEFORMAT='%Y-%m-%d_%X'\n",
    "print (time.strftime( ISOTIMEFORMAT, time.localtime( time.time() )))"
   ]
  }
 ],
 "metadata": {
  "kernelspec": {
   "display_name": "Python 3",
   "language": "python",
   "name": "python3"
  },
  "language_info": {
   "codemirror_mode": {
    "name": "ipython",
    "version": 3
   },
   "file_extension": ".py",
   "mimetype": "text/x-python",
   "name": "python",
   "nbconvert_exporter": "python",
   "pygments_lexer": "ipython3",
   "version": "3.6.1"
  }
 },
 "nbformat": 4,
 "nbformat_minor": 2
}
