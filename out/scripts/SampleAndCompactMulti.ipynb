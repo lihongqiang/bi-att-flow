{
 "cells": [
  {
   "cell_type": "code",
   "execution_count": 13,
   "metadata": {
    "collapsed": true
   },
   "outputs": [],
   "source": [
    "# parse dev data function\n",
    "def ParseJson(data_json):\n",
    "    paragraphs = data_json['data'][0]['paragraphs']\n",
    "    idx_list = list()\n",
    "    context_list = list()\n",
    "    ques_list = list()\n",
    "    ans_list = list()\n",
    "    for para in paragraphs:\n",
    "        context = para['context']\n",
    "        idx = para['qas'][0]['id']\n",
    "        ques = para['qas'][0]['question']\n",
    "        ans = '|'.join([ans['text'] for ans in para['qas'][0]['answers']])\n",
    "        idx_list.append(idx)\n",
    "        context_list.append(context)\n",
    "        ques_list.append(ques)\n",
    "        ans_list.append(ans)\n",
    "    return idx_list, context_list, ques_list, ans_list"
   ]
  },
  {
   "cell_type": "code",
   "execution_count": 14,
   "metadata": {
    "collapsed": true
   },
   "outputs": [],
   "source": [
    "# dev data\n",
    "import json\n",
    "dev_file = '/home/t-honli/data/squad_EQnA/dev-v1.1.json' \n",
    "dev_data = json.load(open(dev_file, \"r\"))"
   ]
  },
  {
   "cell_type": "code",
   "execution_count": 15,
   "metadata": {},
   "outputs": [
    {
     "data": {
      "text/html": [
       "<div>\n",
       "<style>\n",
       "    .dataframe thead tr:only-child th {\n",
       "        text-align: right;\n",
       "    }\n",
       "\n",
       "    .dataframe thead th {\n",
       "        text-align: left;\n",
       "    }\n",
       "\n",
       "    .dataframe tbody tr th {\n",
       "        vertical-align: top;\n",
       "    }\n",
       "</style>\n",
       "<table border=\"1\" class=\"dataframe\">\n",
       "  <thead>\n",
       "    <tr style=\"text-align: right;\">\n",
       "      <th></th>\n",
       "      <th>id</th>\n",
       "      <th>context</th>\n",
       "      <th>question</th>\n",
       "      <th>ground_truth</th>\n",
       "    </tr>\n",
       "  </thead>\n",
       "  <tbody>\n",
       "    <tr>\n",
       "      <th>0</th>\n",
       "      <td>9200ae8372eadcb43e5cfb816f185ef9</td>\n",
       "      <td>Start Up &amp; Rev of a 2006 Acura RL SH - AWD.This has a 3.5L V6 making a decent 290 HP while paired to a 5 Speed Auto.The interior in this was very classy , roomy , &amp; Comfortable .</td>\n",
       "      <td>2006 acura rl horsepower</td>\n",
       "      <td>290 HP</td>\n",
       "    </tr>\n",
       "    <tr>\n",
       "      <th>1</th>\n",
       "      <td>b7d7518b27e56604c9b868ba25565222</td>\n",
       "      <td>The income tax withholding rate remains at 4.25 % for tax year 2015 . However , the personal exemption amount for tax year 2015 will change to $4,000 . You may continue to use 2014 Michigan Income...</td>\n",
       "      <td>2015 michigan withholding tax rate</td>\n",
       "      <td>4.25 %</td>\n",
       "    </tr>\n",
       "    <tr>\n",
       "      <th>2</th>\n",
       "      <td>db5d9db86604d34be584b62c08b00634</td>\n",
       "      <td>The experts at Vidal Sassoon bring you salon color expertise with this Vidal Sassoon Pro Series Hair Color in 5RR Medium Vibrant Red . It offers 100 percent gray coverage in a permanent color form...</td>\n",
       "      <td>5rr hair color</td>\n",
       "      <td>Red</td>\n",
       "    </tr>\n",
       "    <tr>\n",
       "      <th>3</th>\n",
       "      <td>92484e0e63e92f1412854e9516b8f8c3</td>\n",
       "      <td>Effects depend on the substance : hydrogen peroxide removes a bleached layer of skin , while nitric acid causes a characteristic color change to yellow in the skin . Chemical burns may occur throu...</td>\n",
       "      <td>acid that burns through skin</td>\n",
       "      <td>nitric acid|hydrogen peroxide</td>\n",
       "    </tr>\n",
       "    <tr>\n",
       "      <th>4</th>\n",
       "      <td>c8dcb86f8c0a1954ecd7931480b29441</td>\n",
       "      <td>Actor Nikolaj Coster - Waldau , the man who plays Jaime Lannister in HBO 's popular television series Game Of Thrones , has been spotted in Hobart , where he has spent time taking in the city 's c...</td>\n",
       "      <td>actor who plays jamie lannister</td>\n",
       "      <td>Nikolaj Coster|Waldau</td>\n",
       "    </tr>\n",
       "  </tbody>\n",
       "</table>\n",
       "</div>"
      ],
      "text/plain": [
       "                                 id  \\\n",
       "0  9200ae8372eadcb43e5cfb816f185ef9   \n",
       "1  b7d7518b27e56604c9b868ba25565222   \n",
       "2  db5d9db86604d34be584b62c08b00634   \n",
       "3  92484e0e63e92f1412854e9516b8f8c3   \n",
       "4  c8dcb86f8c0a1954ecd7931480b29441   \n",
       "\n",
       "                                                                                                                                                                                                   context  \\\n",
       "0                       Start Up & Rev of a 2006 Acura RL SH - AWD.This has a 3.5L V6 making a decent 290 HP while paired to a 5 Speed Auto.The interior in this was very classy , roomy , & Comfortable .   \n",
       "1  The income tax withholding rate remains at 4.25 % for tax year 2015 . However , the personal exemption amount for tax year 2015 will change to $4,000 . You may continue to use 2014 Michigan Income...   \n",
       "2  The experts at Vidal Sassoon bring you salon color expertise with this Vidal Sassoon Pro Series Hair Color in 5RR Medium Vibrant Red . It offers 100 percent gray coverage in a permanent color form...   \n",
       "3  Effects depend on the substance : hydrogen peroxide removes a bleached layer of skin , while nitric acid causes a characteristic color change to yellow in the skin . Chemical burns may occur throu...   \n",
       "4  Actor Nikolaj Coster - Waldau , the man who plays Jaime Lannister in HBO 's popular television series Game Of Thrones , has been spotted in Hobart , where he has spent time taking in the city 's c...   \n",
       "\n",
       "                             question                   ground_truth  \n",
       "0            2006 acura rl horsepower                         290 HP  \n",
       "1  2015 michigan withholding tax rate                         4.25 %  \n",
       "2                      5rr hair color                            Red  \n",
       "3        acid that burns through skin  nitric acid|hydrogen peroxide  \n",
       "4     actor who plays jamie lannister          Nikolaj Coster|Waldau  "
      ]
     },
     "execution_count": 15,
     "metadata": {},
     "output_type": "execute_result"
    }
   ],
   "source": [
    "import pandas as pd\n",
    "idx, context, ques, ans = ParseJson(dev_data)\n",
    "dev_pd = pd.DataFrame({'id':idx, 'context':context, 'question':ques, 'ground_truth':ans}, columns=['id', 'context', 'question', 'ground_truth'])\n",
    "dev_pd.head(5)"
   ]
  },
  {
   "cell_type": "code",
   "execution_count": 16,
   "metadata": {
    "collapsed": true
   },
   "outputs": [],
   "source": [
    "# bidaf ans\n",
    "import json\n",
    "import os\n",
    "file = '/home/t-honli/bi-att-flow/out/basic/00_EQnA/answer/test-020000_multi.json'\n",
    "bidaf = json.load(open(file, \"r\"))"
   ]
  },
  {
   "cell_type": "code",
   "execution_count": 17,
   "metadata": {
    "collapsed": true
   },
   "outputs": [],
   "source": [
    "dev_pd['bidaf'] = dev_pd.apply(lambda row: bidaf[row['id']], axis=1)"
   ]
  },
  {
   "cell_type": "code",
   "execution_count": 18,
   "metadata": {},
   "outputs": [
    {
     "name": "stdout",
     "output_type": "stream",
     "text": [
      "15560\n",
      "15454\n"
     ]
    },
    {
     "data": {
      "text/html": [
       "<div>\n",
       "<style>\n",
       "    .dataframe thead tr:only-child th {\n",
       "        text-align: right;\n",
       "    }\n",
       "\n",
       "    .dataframe thead th {\n",
       "        text-align: left;\n",
       "    }\n",
       "\n",
       "    .dataframe tbody tr th {\n",
       "        vertical-align: top;\n",
       "    }\n",
       "</style>\n",
       "<table border=\"1\" class=\"dataframe\">\n",
       "  <thead>\n",
       "    <tr style=\"text-align: right;\">\n",
       "      <th></th>\n",
       "      <th>id</th>\n",
       "      <th>Query</th>\n",
       "      <th>Url</th>\n",
       "      <th>Answer</th>\n",
       "      <th>AnswerTokenList</th>\n",
       "      <th>ParaseSpan</th>\n",
       "      <th>phrase</th>\n",
       "      <th>Label</th>\n",
       "      <th>Probability</th>\n",
       "      <th>hash_id</th>\n",
       "    </tr>\n",
       "  </thead>\n",
       "  <tbody>\n",
       "    <tr>\n",
       "      <th>0</th>\n",
       "      <td>00021900a221a0b2e5c9a923c4f13813</td>\n",
       "      <td>where does the water from mississippi's rivers drain</td>\n",
       "      <td>http://en.wikipedia.org/wiki/Mississippi_River</td>\n",
       "      <td>In the United States, the Mississippi River drains the majority of the area between crest of the Rocky Mountains and the crest of the Appalachian Mountains, except for various regions drained to H...</td>\n",
       "      <td>[\"In\",\"the\",\"United\",\"States\",\",\",\"the\",\"Mississippi\",\"River\",\"drains\",\"the\",\"majority\",\"of\",\"the\",\"area\",\"between\",\"crest\",\"of\",\"the\",\"Rocky\",\"Mountains\",\"and\",\"the\",\"crest\",\"of\",\"the\",\"Appalachi...</td>\n",
       "      <td>79:79</td>\n",
       "      <td>rivers</td>\n",
       "      <td>0</td>\n",
       "      <td>0.01860236</td>\n",
       "      <td>9b6bef3c4ce179302bbad6ddf9b98832</td>\n",
       "    </tr>\n",
       "    <tr>\n",
       "      <th>1</th>\n",
       "      <td>0004dd703e44213707c923e548627774</td>\n",
       "      <td>good foods for pregnant women</td>\n",
       "      <td>http://www.netdoctor.co.uk/health_advice/facts/pregnantdiet.htm</td>\n",
       "      <td>During pregnancy, a woman's body needs more iron than usual to produce all the blood needed to supply nutrition to the placenta. Good sources of iron are green vegetables such as broccoli and spin...</td>\n",
       "      <td>[\"During\",\"pregnancy\",\",\",\"a\",\"woman\",\"'s\",\"body\",\"needs\",\"more\",\"iron\",\"than\",\"usual\",\"to\",\"produce\",\"all\",\"the\",\"blood\",\"needed\",\"to\",\"supply\",\"nutrition\",\"to\",\"the\",\"placenta\",\".\",\"Good\",\"sourc...</td>\n",
       "      <td>4:4</td>\n",
       "      <td>woman</td>\n",
       "      <td>0</td>\n",
       "      <td>0.1246661</td>\n",
       "      <td>ac6273ec9adf9778fb33f09501f43874</td>\n",
       "    </tr>\n",
       "    <tr>\n",
       "      <th>2</th>\n",
       "      <td>00052a47dccf1667995ebffb3019b565</td>\n",
       "      <td>what continent is belize on</td>\n",
       "      <td>http://www.belize.com/where-is-belize</td>\n",
       "      <td>Belize is located on the Caribbean coast of northern Central America at 17°15′ north of the equator and 88°45′ west of the Prime Meridian on the Yucatán Peninsula. Central America is the isthmus t...</td>\n",
       "      <td>[\"Belize\",\"is\",\"located\",\"on\",\"the\",\"Caribbean\",\"coast\",\"of\",\"northern\",\"Central\",\"America\",\"at\",\"17°15\",\"′\",\"north\",\"of\",\"the\",\"equator\",\"and\",\"88°45\",\"′\",\"west\",\"of\",\"the\",\"Prime\",\"Meridian\",\"on...</td>\n",
       "      <td>19:19</td>\n",
       "      <td>88°45</td>\n",
       "      <td>0</td>\n",
       "      <td>0.02859148</td>\n",
       "      <td>2110154eb61df6e89f85c33c204492e0</td>\n",
       "    </tr>\n",
       "    <tr>\n",
       "      <th>3</th>\n",
       "      <td>00099640760fac2092756da3714c60a9</td>\n",
       "      <td>when was tom seaver born</td>\n",
       "      <td>http://www.baseball-almanac.com/players/player.php?p=seaveto01</td>\n",
       "      <td>Tom Seaver was born on Friday, November 17, 1944, in Fresno, California. Seaver was 22 years old when he broke into the big leagues on April 13, 1967, with the New York Mets.</td>\n",
       "      <td>[\"Tom\",\"Seaver\",\"was\",\"born\",\"on\",\"Friday\",\",\",\"November\",\"17\",\",\",\"1944\",\",\",\"in\",\"Fresno\",\",\",\"California\",\".\",\"Seaver\",\"was\",\"22\",\"years\",\"old\",\"when\",\"he\",\"broke\",\"into\",\"the\",\"big\",\"leagues\",...</td>\n",
       "      <td>17:17</td>\n",
       "      <td>Seaver</td>\n",
       "      <td>0</td>\n",
       "      <td>0.001268676</td>\n",
       "      <td>a272a8fdd6b0e63d75e39f732639c31f</td>\n",
       "    </tr>\n",
       "    <tr>\n",
       "      <th>4</th>\n",
       "      <td>000e8ade636d16933ddc53486a59a976</td>\n",
       "      <td>disease caused by deer ticks</td>\n",
       "      <td>http://www.niaid.nih.gov/topics/tickborne/Pages/Default.aspx</td>\n",
       "      <td>Ticks transmit ehrlichiosis and anaplasmosis, both bacterial diseases. Babesiosis is caused by parasites carried by deer ticks. These diseases are found in several states.</td>\n",
       "      <td>[\"Ticks\",\"transmit\",\"ehrlichiosis\",\"and\",\"anaplasmosis\",\",\",\"both\",\"bacterial\",\"diseases\",\".\",\"Babesiosis\",\"is\",\"caused\",\"by\",\"parasites\",\"carried\",\"by\",\"deer\",\"ticks\",\".\",\"These\",\"diseases\",\"are\"...</td>\n",
       "      <td>0:0</td>\n",
       "      <td>Ticks</td>\n",
       "      <td>0</td>\n",
       "      <td>0.008481221</td>\n",
       "      <td>54ee3a3b1b57174ee8ee50625d20ee74</td>\n",
       "    </tr>\n",
       "  </tbody>\n",
       "</table>\n",
       "</div>"
      ],
      "text/plain": [
       "                                 id  \\\n",
       "0  00021900a221a0b2e5c9a923c4f13813   \n",
       "1  0004dd703e44213707c923e548627774   \n",
       "2  00052a47dccf1667995ebffb3019b565   \n",
       "3  00099640760fac2092756da3714c60a9   \n",
       "4  000e8ade636d16933ddc53486a59a976   \n",
       "\n",
       "                                                  Query  \\\n",
       "0  where does the water from mississippi's rivers drain   \n",
       "1                         good foods for pregnant women   \n",
       "2                           what continent is belize on   \n",
       "3                              when was tom seaver born   \n",
       "4                          disease caused by deer ticks   \n",
       "\n",
       "                                                               Url  \\\n",
       "0                   http://en.wikipedia.org/wiki/Mississippi_River   \n",
       "1  http://www.netdoctor.co.uk/health_advice/facts/pregnantdiet.htm   \n",
       "2                            http://www.belize.com/where-is-belize   \n",
       "3   http://www.baseball-almanac.com/players/player.php?p=seaveto01   \n",
       "4     http://www.niaid.nih.gov/topics/tickborne/Pages/Default.aspx   \n",
       "\n",
       "                                                                                                                                                                                                    Answer  \\\n",
       "0  In the United States, the Mississippi River drains the majority of the area between crest of the Rocky Mountains and the crest of the Appalachian Mountains, except for various regions drained to H...   \n",
       "1  During pregnancy, a woman's body needs more iron than usual to produce all the blood needed to supply nutrition to the placenta. Good sources of iron are green vegetables such as broccoli and spin...   \n",
       "2  Belize is located on the Caribbean coast of northern Central America at 17°15′ north of the equator and 88°45′ west of the Prime Meridian on the Yucatán Peninsula. Central America is the isthmus t...   \n",
       "3                           Tom Seaver was born on Friday, November 17, 1944, in Fresno, California. Seaver was 22 years old when he broke into the big leagues on April 13, 1967, with the New York Mets.   \n",
       "4                              Ticks transmit ehrlichiosis and anaplasmosis, both bacterial diseases. Babesiosis is caused by parasites carried by deer ticks. These diseases are found in several states.   \n",
       "\n",
       "                                                                                                                                                                                           AnswerTokenList  \\\n",
       "0  [\"In\",\"the\",\"United\",\"States\",\",\",\"the\",\"Mississippi\",\"River\",\"drains\",\"the\",\"majority\",\"of\",\"the\",\"area\",\"between\",\"crest\",\"of\",\"the\",\"Rocky\",\"Mountains\",\"and\",\"the\",\"crest\",\"of\",\"the\",\"Appalachi...   \n",
       "1  [\"During\",\"pregnancy\",\",\",\"a\",\"woman\",\"'s\",\"body\",\"needs\",\"more\",\"iron\",\"than\",\"usual\",\"to\",\"produce\",\"all\",\"the\",\"blood\",\"needed\",\"to\",\"supply\",\"nutrition\",\"to\",\"the\",\"placenta\",\".\",\"Good\",\"sourc...   \n",
       "2  [\"Belize\",\"is\",\"located\",\"on\",\"the\",\"Caribbean\",\"coast\",\"of\",\"northern\",\"Central\",\"America\",\"at\",\"17°15\",\"′\",\"north\",\"of\",\"the\",\"equator\",\"and\",\"88°45\",\"′\",\"west\",\"of\",\"the\",\"Prime\",\"Meridian\",\"on...   \n",
       "3  [\"Tom\",\"Seaver\",\"was\",\"born\",\"on\",\"Friday\",\",\",\"November\",\"17\",\",\",\"1944\",\",\",\"in\",\"Fresno\",\",\",\"California\",\".\",\"Seaver\",\"was\",\"22\",\"years\",\"old\",\"when\",\"he\",\"broke\",\"into\",\"the\",\"big\",\"leagues\",...   \n",
       "4  [\"Ticks\",\"transmit\",\"ehrlichiosis\",\"and\",\"anaplasmosis\",\",\",\"both\",\"bacterial\",\"diseases\",\".\",\"Babesiosis\",\"is\",\"caused\",\"by\",\"parasites\",\"carried\",\"by\",\"deer\",\"ticks\",\".\",\"These\",\"diseases\",\"are\"...   \n",
       "\n",
       "  ParaseSpan  phrase Label  Probability                           hash_id  \n",
       "0      79:79  rivers     0   0.01860236  9b6bef3c4ce179302bbad6ddf9b98832  \n",
       "1        4:4   woman     0    0.1246661  ac6273ec9adf9778fb33f09501f43874  \n",
       "2      19:19   88°45     0   0.02859148  2110154eb61df6e89f85c33c204492e0  \n",
       "3      17:17  Seaver     0  0.001268676  a272a8fdd6b0e63d75e39f732639c31f  \n",
       "4        0:0   Ticks     0  0.008481221  54ee3a3b1b57174ee8ee50625d20ee74  "
      ]
     },
     "execution_count": 18,
     "metadata": {},
     "output_type": "execute_result"
    }
   ],
   "source": [
    "# prod model\n",
    "import pandas as pd\n",
    "col_names = ['id', 'Query', 'Url', 'Answer', 'AnswerTokenList', 'ParaseSpan', 'phrase', 'Label', 'Probability']\n",
    "prod = pd.read_csv('/home/t-honli/data/squad_EQnA/EQnA_Highlighting_Test_ProdModel.tsv', header=None, sep='\\t', names=col_names, dtype=str).fillna('')\n",
    "\n",
    "print (len(prod))\n",
    "\n",
    "# 根据answer，query，url生成hash_id\n",
    "import hashlib\n",
    "def GetHashCode(context):\n",
    "    hash = hashlib.md5()\n",
    "    hash.update(context.encode('utf-8'))\n",
    "    return hash.hexdigest()\n",
    "prod['hash_id'] = prod.apply(lambda row: GetHashCode(row['Answer'] + ' ' + row['Query'] + ' ' + row['Url']), axis=1)\n",
    "\n",
    "prod = prod[prod.apply(lambda row: len(row['phrase'])<32, axis=1)]\n",
    "print (len(prod))\n",
    "prod.head(5)"
   ]
  },
  {
   "cell_type": "code",
   "execution_count": 20,
   "metadata": {},
   "outputs": [
    {
     "name": "stdout",
     "output_type": "stream",
     "text": [
      "15454\n"
     ]
    }
   ],
   "source": [
    "# 获取hash_id, [(phrase,score)]\n",
    "multi_phrase_dict = {}\n",
    "def getPhrase(row):\n",
    "    if row['hash_id'] not in multi_phrase_dict:\n",
    "        multi_phrase_dict[row['hash_id']] = list()\n",
    "    row['Probability'] = '%.4f' % float(row['Probability'])\n",
    "    multi_phrase_dict[row['hash_id']].append(row['phrase'] + \":\" + row['Probability'])\n",
    "prod.apply(getPhrase, axis=1)\n",
    "print (len(prod))"
   ]
  },
  {
   "cell_type": "code",
   "execution_count": 21,
   "metadata": {
    "collapsed": true
   },
   "outputs": [],
   "source": [
    "# sort\n",
    "for idx in list(multi_phrase_dict.keys()):\n",
    "    multi_phrase_dict[idx].sort(key=lambda x: float(x.split(':')[-1]), reverse=True)"
   ]
  },
  {
   "cell_type": "code",
   "execution_count": 22,
   "metadata": {},
   "outputs": [
    {
     "name": "stdout",
     "output_type": "stream",
     "text": [
      "[('9b6bef3c4ce179302bbad6ddf9b98832', ['Alabama:0.8560', 'Rio Grande:0.7439', 'Saint Lawrence River:0.7311', 'Tombigbee:0.6698', 'Chattahoochee:0.5844', 'the Atlantic Ocean:0.4905', 'Red River of the North:0.4180', 'the United States:0.3123', 'the Great Lakes:0.3058', 'waterways:0.2184', 'the Mississippi:0.0737', 'drained:0.0447', 'coastal:0.0258', 'rivers:0.0244', 'rivers:0.0186', 'regions:0.0173']), ('ac6273ec9adf9778fb33f09501f43874', ['spinach:0.9555', 'broccoli:0.9459', 'green vegetables:0.9092', 'wholemeal bread:0.8101', 'blood:0.6137', 'produce:0.5852', 'iron:0.4314', 'placenta:0.2961', 'iron:0.2657', 'nutrition:0.2498', 'pregnancy:0.1735', 'woman:0.1247', 'body:0.0602']), ('2110154eb61df6e89f85c33c204492e0', ['South America:0.9047', 'North America:0.6379', 'Yucatán Peninsula:0.1944', 'the Caribbean:0.1486', 'Prime Meridian:0.1198', 'the equator:0.0432', '17°15:0.0291', '88°45:0.0286', 'north:0.0249', 'west:0.0137', 'Belize:0.0076']), ('a272a8fdd6b0e63d75e39f732639c31f', ['November 17 , 1944:0.9579', 'April 13 , 1967:0.7058', '22 years old:0.0562', 'California:0.0083', 'Fresno:0.0046', 'the New York Mets:0.0032', 'Seaver:0.0013', 'Tom Seaver:0.0007']), ('54ee3a3b1b57174ee8ee50625d20ee74', ['Babesiosis:0.9108', 'bacterial diseases:0.1270', 'Ticks:0.0085', 'ticks:0.0065'])]\n"
     ]
    }
   ],
   "source": [
    "print (list(multi_phrase_dict.items())[:5])"
   ]
  },
  {
   "cell_type": "code",
   "execution_count": 23,
   "metadata": {
    "collapsed": true
   },
   "outputs": [],
   "source": [
    "dev_pd['prod'] = dev_pd.apply(lambda row: '|'.join(multi_phrase_dict[row['id']]), axis=1)"
   ]
  },
  {
   "cell_type": "code",
   "execution_count": 24,
   "metadata": {},
   "outputs": [
    {
     "data": {
      "text/html": [
       "<div>\n",
       "<style>\n",
       "    .dataframe thead tr:only-child th {\n",
       "        text-align: right;\n",
       "    }\n",
       "\n",
       "    .dataframe thead th {\n",
       "        text-align: left;\n",
       "    }\n",
       "\n",
       "    .dataframe tbody tr th {\n",
       "        vertical-align: top;\n",
       "    }\n",
       "</style>\n",
       "<table border=\"1\" class=\"dataframe\">\n",
       "  <thead>\n",
       "    <tr style=\"text-align: right;\">\n",
       "      <th></th>\n",
       "      <th>id</th>\n",
       "      <th>context</th>\n",
       "      <th>question</th>\n",
       "      <th>ground_truth</th>\n",
       "      <th>bidaf</th>\n",
       "      <th>prod</th>\n",
       "    </tr>\n",
       "  </thead>\n",
       "  <tbody>\n",
       "    <tr>\n",
       "      <th>0</th>\n",
       "      <td>9200ae8372eadcb43e5cfb816f185ef9</td>\n",
       "      <td>Start Up &amp; Rev of a 2006 Acura RL SH - AWD.This has a 3.5L V6 making a decent 290 HP while paired to a 5 Speed Auto.The interior in this was very classy , roomy , &amp; Comfortable .</td>\n",
       "      <td>2006 acura rl horsepower</td>\n",
       "      <td>290 HP</td>\n",
       "      <td>290 HP|3.5L|290 HP while paired to a 5</td>\n",
       "      <td>290 HP:0.8149|V6:0.4651|AWD.This:0.3202|3.5L:0.1977|5:0.1863|has a:0.0248|2006:0.0102|Acura RL:0.0096</td>\n",
       "    </tr>\n",
       "    <tr>\n",
       "      <th>1</th>\n",
       "      <td>b7d7518b27e56604c9b868ba25565222</td>\n",
       "      <td>The income tax withholding rate remains at 4.25 % for tax year 2015 . However , the personal exemption amount for tax year 2015 will change to $4,000 . You may continue to use 2014 Michigan Income...</td>\n",
       "      <td>2015 michigan withholding tax rate</td>\n",
       "      <td>4.25 %</td>\n",
       "      <td>4.25 %|4.25 % for tax year 2015 . However , the personal exemption amount for tax year 2015 will change to $4,000|4.25</td>\n",
       "      <td>4.25 %:0.8581|$4,000:0.6614|2014:0.0384|personal exemption:0.0171|Withholding:0.0084|withholding:0.0077|Income Tax:0.0064|income tax:0.0062|2015:0.0059|2015:0.0055|Michigan:0.0052|may:0.0042</td>\n",
       "    </tr>\n",
       "    <tr>\n",
       "      <th>2</th>\n",
       "      <td>db5d9db86604d34be584b62c08b00634</td>\n",
       "      <td>The experts at Vidal Sassoon bring you salon color expertise with this Vidal Sassoon Pro Series Hair Color in 5RR Medium Vibrant Red . It offers 100 percent gray coverage in a permanent color form...</td>\n",
       "      <td>5rr hair color</td>\n",
       "      <td>Red</td>\n",
       "      <td>gray|100 percent|Red</td>\n",
       "      <td>Red:0.9268|gray:0.9099|Vidal Sassoon:0.0242|100 percent:0.0170|Vidal Sassoon:0.0156|color:0.0060|color:0.0047|Hair Color:0.0040|5RR:0.0034</td>\n",
       "    </tr>\n",
       "    <tr>\n",
       "      <th>3</th>\n",
       "      <td>92484e0e63e92f1412854e9516b8f8c3</td>\n",
       "      <td>Effects depend on the substance : hydrogen peroxide removes a bleached layer of skin , while nitric acid causes a characteristic color change to yellow in the skin . Chemical burns may occur throu...</td>\n",
       "      <td>acid that burns through skin</td>\n",
       "      <td>nitric acid|hydrogen peroxide</td>\n",
       "      <td>hydrogen peroxide|hydrogen peroxide removes a bleached layer of skin , while nitric acid|hydrogen</td>\n",
       "      <td>hydrogen peroxide:0.4230|nitric acid:0.2648|yellow:0.0626|Chemical burns:0.0581|color:0.0269|body:0.0147|may:0.0079|skin:0.0059|skin:0.0057|skin:0.0056</td>\n",
       "    </tr>\n",
       "    <tr>\n",
       "      <th>4</th>\n",
       "      <td>c8dcb86f8c0a1954ecd7931480b29441</td>\n",
       "      <td>Actor Nikolaj Coster - Waldau , the man who plays Jaime Lannister in HBO 's popular television series Game Of Thrones , has been spotted in Hobart , where he has spent time taking in the city 's c...</td>\n",
       "      <td>actor who plays jamie lannister</td>\n",
       "      <td>Nikolaj Coster|Waldau</td>\n",
       "      <td>Nikolaj Coster|Nikolaj Coster - Waldau|Nikolaj</td>\n",
       "      <td>Jaime:0.7372|Nikolaj Coster:0.7275|Waldau:0.0507|Hobart:0.0208|HBO:0.0192|Game Of Thrones:0.0083|television series:0.0057|Actor:0.0035|has been:0.0034</td>\n",
       "    </tr>\n",
       "  </tbody>\n",
       "</table>\n",
       "</div>"
      ],
      "text/plain": [
       "                                 id  \\\n",
       "0  9200ae8372eadcb43e5cfb816f185ef9   \n",
       "1  b7d7518b27e56604c9b868ba25565222   \n",
       "2  db5d9db86604d34be584b62c08b00634   \n",
       "3  92484e0e63e92f1412854e9516b8f8c3   \n",
       "4  c8dcb86f8c0a1954ecd7931480b29441   \n",
       "\n",
       "                                                                                                                                                                                                   context  \\\n",
       "0                       Start Up & Rev of a 2006 Acura RL SH - AWD.This has a 3.5L V6 making a decent 290 HP while paired to a 5 Speed Auto.The interior in this was very classy , roomy , & Comfortable .   \n",
       "1  The income tax withholding rate remains at 4.25 % for tax year 2015 . However , the personal exemption amount for tax year 2015 will change to $4,000 . You may continue to use 2014 Michigan Income...   \n",
       "2  The experts at Vidal Sassoon bring you salon color expertise with this Vidal Sassoon Pro Series Hair Color in 5RR Medium Vibrant Red . It offers 100 percent gray coverage in a permanent color form...   \n",
       "3  Effects depend on the substance : hydrogen peroxide removes a bleached layer of skin , while nitric acid causes a characteristic color change to yellow in the skin . Chemical burns may occur throu...   \n",
       "4  Actor Nikolaj Coster - Waldau , the man who plays Jaime Lannister in HBO 's popular television series Game Of Thrones , has been spotted in Hobart , where he has spent time taking in the city 's c...   \n",
       "\n",
       "                             question                   ground_truth  \\\n",
       "0            2006 acura rl horsepower                         290 HP   \n",
       "1  2015 michigan withholding tax rate                         4.25 %   \n",
       "2                      5rr hair color                            Red   \n",
       "3        acid that burns through skin  nitric acid|hydrogen peroxide   \n",
       "4     actor who plays jamie lannister          Nikolaj Coster|Waldau   \n",
       "\n",
       "                                                                                                                    bidaf  \\\n",
       "0                                                                                  290 HP|3.5L|290 HP while paired to a 5   \n",
       "1  4.25 %|4.25 % for tax year 2015 . However , the personal exemption amount for tax year 2015 will change to $4,000|4.25   \n",
       "2                                                                                                    gray|100 percent|Red   \n",
       "3                       hydrogen peroxide|hydrogen peroxide removes a bleached layer of skin , while nitric acid|hydrogen   \n",
       "4                                                                          Nikolaj Coster|Nikolaj Coster - Waldau|Nikolaj   \n",
       "\n",
       "                                                                                                                                                                                             prod  \n",
       "0                                                                                           290 HP:0.8149|V6:0.4651|AWD.This:0.3202|3.5L:0.1977|5:0.1863|has a:0.0248|2006:0.0102|Acura RL:0.0096  \n",
       "1  4.25 %:0.8581|$4,000:0.6614|2014:0.0384|personal exemption:0.0171|Withholding:0.0084|withholding:0.0077|Income Tax:0.0064|income tax:0.0062|2015:0.0059|2015:0.0055|Michigan:0.0052|may:0.0042  \n",
       "2                                                      Red:0.9268|gray:0.9099|Vidal Sassoon:0.0242|100 percent:0.0170|Vidal Sassoon:0.0156|color:0.0060|color:0.0047|Hair Color:0.0040|5RR:0.0034  \n",
       "3                                         hydrogen peroxide:0.4230|nitric acid:0.2648|yellow:0.0626|Chemical burns:0.0581|color:0.0269|body:0.0147|may:0.0079|skin:0.0059|skin:0.0057|skin:0.0056  \n",
       "4                                          Jaime:0.7372|Nikolaj Coster:0.7275|Waldau:0.0507|Hobart:0.0208|HBO:0.0192|Game Of Thrones:0.0083|television series:0.0057|Actor:0.0035|has been:0.0034  "
      ]
     },
     "execution_count": 24,
     "metadata": {},
     "output_type": "execute_result"
    }
   ],
   "source": [
    "pd.set_option('max_colwidth', 200)\n",
    "dev_pd.head(5)"
   ]
  },
  {
   "cell_type": "code",
   "execution_count": 25,
   "metadata": {
    "collapsed": true
   },
   "outputs": [],
   "source": [
    "dev_pd.to_csv('./sample_multi.tsv', header=True, index=None, sep='\\t')"
   ]
  },
  {
   "cell_type": "code",
   "execution_count": null,
   "metadata": {
    "collapsed": true
   },
   "outputs": [],
   "source": [
    "# SampleAndCompactMulti.ipynb add threshold\n",
    "# generate_prodformat_label.ipynb change bidaf data to prod format"
   ]
  },
  {
   "cell_type": "code",
   "execution_count": null,
   "metadata": {
    "collapsed": true
   },
   "outputs": [],
   "source": []
  }
 ],
 "metadata": {
  "kernelspec": {
   "display_name": "Python 3",
   "language": "python",
   "name": "python3"
  },
  "language_info": {
   "codemirror_mode": {
    "name": "ipython",
    "version": 3
   },
   "file_extension": ".py",
   "mimetype": "text/x-python",
   "name": "python",
   "nbconvert_exporter": "python",
   "pygments_lexer": "ipython3",
   "version": "3.6.1"
  }
 },
 "nbformat": 4,
 "nbformat_minor": 2
}
