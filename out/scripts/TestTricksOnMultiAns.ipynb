{
 "cells": [
  {
   "cell_type": "code",
   "execution_count": 70,
   "metadata": {
    "collapsed": true
   },
   "outputs": [],
   "source": [
    "# parse dev data function\n",
    "def ParseJson(data_json):\n",
    "    paragraphs = data_json['data'][0]['paragraphs']\n",
    "    idx_list = list()\n",
    "    context_list = list()\n",
    "    ques_list = list()\n",
    "    ans_list = list()\n",
    "    for para in paragraphs:\n",
    "        context = para['context']\n",
    "        idx = para['qas'][0]['id']\n",
    "        ques = para['qas'][0]['question']\n",
    "        ans = '|||'.join([ans['text'] for ans in para['qas'][0]['answers']])\n",
    "        idx_list.append(idx)\n",
    "        context_list.append(context)\n",
    "        ques_list.append(ques)\n",
    "        ans_list.append(ans)\n",
    "    return idx_list, context_list, ques_list, ans_list"
   ]
  },
  {
   "cell_type": "code",
   "execution_count": 71,
   "metadata": {
    "collapsed": true
   },
   "outputs": [],
   "source": [
    "# dev data\n",
    "import json\n",
    "dev_file = '/home/t-honli/data/EQnA/dev-v1.1.json' \n",
    "dev_data = json.load(open(dev_file, \"r\"))"
   ]
  },
  {
   "cell_type": "code",
   "execution_count": 72,
   "metadata": {},
   "outputs": [
    {
     "data": {
      "text/html": [
       "<div>\n",
       "<style>\n",
       "    .dataframe thead tr:only-child th {\n",
       "        text-align: right;\n",
       "    }\n",
       "\n",
       "    .dataframe thead th {\n",
       "        text-align: left;\n",
       "    }\n",
       "\n",
       "    .dataframe tbody tr th {\n",
       "        vertical-align: top;\n",
       "    }\n",
       "</style>\n",
       "<table border=\"1\" class=\"dataframe\">\n",
       "  <thead>\n",
       "    <tr style=\"text-align: right;\">\n",
       "      <th></th>\n",
       "      <th>id</th>\n",
       "      <th>context</th>\n",
       "      <th>question</th>\n",
       "      <th>ground_truth</th>\n",
       "    </tr>\n",
       "  </thead>\n",
       "  <tbody>\n",
       "    <tr>\n",
       "      <th>0</th>\n",
       "      <td>9200ae8372eadcb43e5cfb816f185ef9</td>\n",
       "      <td>Start Up &amp; Rev of a 2006 Acura RL SH - AWD.Thi...</td>\n",
       "      <td>2006 acura rl horsepower</td>\n",
       "      <td>290 HP</td>\n",
       "    </tr>\n",
       "    <tr>\n",
       "      <th>1</th>\n",
       "      <td>b7d7518b27e56604c9b868ba25565222</td>\n",
       "      <td>The income tax withholding rate remains at 4.2...</td>\n",
       "      <td>2015 michigan withholding tax rate</td>\n",
       "      <td>4.25 %</td>\n",
       "    </tr>\n",
       "    <tr>\n",
       "      <th>2</th>\n",
       "      <td>db5d9db86604d34be584b62c08b00634</td>\n",
       "      <td>The experts at Vidal Sassoon bring you salon c...</td>\n",
       "      <td>5rr hair color</td>\n",
       "      <td>Red</td>\n",
       "    </tr>\n",
       "    <tr>\n",
       "      <th>3</th>\n",
       "      <td>92484e0e63e92f1412854e9516b8f8c3</td>\n",
       "      <td>Effects depend on the substance : hydrogen per...</td>\n",
       "      <td>acid that burns through skin</td>\n",
       "      <td>nitric acid|||hydrogen peroxide</td>\n",
       "    </tr>\n",
       "    <tr>\n",
       "      <th>4</th>\n",
       "      <td>c8dcb86f8c0a1954ecd7931480b29441</td>\n",
       "      <td>Actor Nikolaj Coster - Waldau , the man who pl...</td>\n",
       "      <td>actor who plays jamie lannister</td>\n",
       "      <td>Nikolaj Coster|||Waldau</td>\n",
       "    </tr>\n",
       "  </tbody>\n",
       "</table>\n",
       "</div>"
      ],
      "text/plain": [
       "                                 id  \\\n",
       "0  9200ae8372eadcb43e5cfb816f185ef9   \n",
       "1  b7d7518b27e56604c9b868ba25565222   \n",
       "2  db5d9db86604d34be584b62c08b00634   \n",
       "3  92484e0e63e92f1412854e9516b8f8c3   \n",
       "4  c8dcb86f8c0a1954ecd7931480b29441   \n",
       "\n",
       "                                             context  \\\n",
       "0  Start Up & Rev of a 2006 Acura RL SH - AWD.Thi...   \n",
       "1  The income tax withholding rate remains at 4.2...   \n",
       "2  The experts at Vidal Sassoon bring you salon c...   \n",
       "3  Effects depend on the substance : hydrogen per...   \n",
       "4  Actor Nikolaj Coster - Waldau , the man who pl...   \n",
       "\n",
       "                             question                     ground_truth  \n",
       "0            2006 acura rl horsepower                           290 HP  \n",
       "1  2015 michigan withholding tax rate                           4.25 %  \n",
       "2                      5rr hair color                              Red  \n",
       "3        acid that burns through skin  nitric acid|||hydrogen peroxide  \n",
       "4     actor who plays jamie lannister          Nikolaj Coster|||Waldau  "
      ]
     },
     "execution_count": 72,
     "metadata": {},
     "output_type": "execute_result"
    }
   ],
   "source": [
    "import pandas as pd\n",
    "idx, context, ques, ans = ParseJson(dev_data)\n",
    "dev_pd = pd.DataFrame({'id':idx, 'context':context, 'question':ques, 'ground_truth':ans}, columns=['id', 'context', 'question', 'ground_truth'])\n",
    "dev_pd.head(5)"
   ]
  },
  {
   "cell_type": "code",
   "execution_count": 123,
   "metadata": {},
   "outputs": [
    {
     "data": {
      "text/html": [
       "<div>\n",
       "<style>\n",
       "    .dataframe thead tr:only-child th {\n",
       "        text-align: right;\n",
       "    }\n",
       "\n",
       "    .dataframe thead th {\n",
       "        text-align: left;\n",
       "    }\n",
       "\n",
       "    .dataframe tbody tr th {\n",
       "        vertical-align: top;\n",
       "    }\n",
       "</style>\n",
       "<table border=\"1\" class=\"dataframe\">\n",
       "  <thead>\n",
       "    <tr style=\"text-align: right;\">\n",
       "      <th></th>\n",
       "      <th>id</th>\n",
       "      <th>context</th>\n",
       "      <th>question</th>\n",
       "      <th>ground_truth</th>\n",
       "      <th>bidaf</th>\n",
       "      <th>prod</th>\n",
       "      <th>bidaf_single</th>\n",
       "      <th>prod_single</th>\n",
       "    </tr>\n",
       "  </thead>\n",
       "  <tbody>\n",
       "    <tr>\n",
       "      <th>63</th>\n",
       "      <td>a1ad804e600a055ec3e1529dc65024aa</td>\n",
       "      <td>DC has a sales tax rate structure that also in...</td>\n",
       "      <td>dc parking tax rate</td>\n",
       "      <td>18 %</td>\n",
       "      <td>10 %:::0.3227|||18 %:::0.5344|||14.5 %:::0.9012</td>\n",
       "      <td>18 %:::0.7989|||meals:::0.0136|||vehicles:::0....</td>\n",
       "      <td>10 %</td>\n",
       "      <td>18 %</td>\n",
       "    </tr>\n",
       "  </tbody>\n",
       "</table>\n",
       "</div>"
      ],
      "text/plain": [
       "                                  id  \\\n",
       "63  a1ad804e600a055ec3e1529dc65024aa   \n",
       "\n",
       "                                              context             question  \\\n",
       "63  DC has a sales tax rate structure that also in...  dc parking tax rate   \n",
       "\n",
       "   ground_truth                                            bidaf  \\\n",
       "63         18 %  10 %:::0.3227|||18 %:::0.5344|||14.5 %:::0.9012   \n",
       "\n",
       "                                                 prod bidaf_single prod_single  \n",
       "63  18 %:::0.7989|||meals:::0.0136|||vehicles:::0....         10 %        18 %  "
      ]
     },
     "execution_count": 123,
     "metadata": {},
     "output_type": "execute_result"
    }
   ],
   "source": [
    "dev_pd[dev_pd['id'] == 'a1ad804e600a055ec3e1529dc65024aa']"
   ]
  },
  {
   "cell_type": "code",
   "execution_count": 76,
   "metadata": {},
   "outputs": [
    {
     "name": "stdout",
     "output_type": "stream",
     "text": [
      "23\n",
      "Alaska|||Arizona|||California|||Colorado|||Connecticut|||Delaware|||Hawaii|||Illinois|||Maine|||Maryland|||Massachusetts|||Michigan|||Minnesota|||Montana|||Nevada|||New Hampshire|||New Jersey|||New Mexico|||New York|||Oregon|||Rhode Island|||Vermont|||the District of Columbia\n"
     ]
    }
   ],
   "source": [
    "# max answer num\n",
    "max_num = 0\n",
    "max_ans = ''\n",
    "def getMaxNum(row):\n",
    "    global max_num, max_ans\n",
    "    tmp_num = len(row['ground_truth'].split('|||'))\n",
    "    if tmp_num > max_num:\n",
    "        max_num = tmp_num\n",
    "        max_ans = row['ground_truth']\n",
    "    \n",
    "dev_pd.apply(getMaxNum, axis=1)\n",
    "print (max_num)\n",
    "print (max_ans)\n",
    "\n",
    "# bidaf ans\n",
    "import json\n",
    "import os\n",
    "#file = '/home/t-honli/bi-att-flow/out/EQnA/03-07-2017/answer/test-020000.json'\n",
    "file = '/home/t-honli/bi-att-flow/out/EQnA/no_sent_token/18-07-2017/answer/top3.json'\n",
    "bidaf = json.load(open(file, \"r\"))"
   ]
  },
  {
   "cell_type": "code",
   "execution_count": 77,
   "metadata": {},
   "outputs": [
    {
     "data": {
      "text/plain": [
       "['0.9227|||0.2311|||0.0830',\n",
       " '0.4284|||0.3181|||0.6372',\n",
       " '0.1095|||0.1645|||0.2476',\n",
       " '0.3587|||0.2714|||0.9464',\n",
       " '0.8755|||0.1260|||0.0856',\n",
       " '0.7898|||0.9697|||0.0234',\n",
       " '0.9092|||0.2312|||0.6155',\n",
       " '0.2988|||0.7237|||0.1566',\n",
       " '0.0929|||0.1480|||0.1455',\n",
       " '0.1399|||0.4392|||0.1738']"
      ]
     },
     "execution_count": 77,
     "metadata": {},
     "output_type": "execute_result"
    }
   ],
   "source": [
    "list(bidaf['scores'].values())[:10]"
   ]
  },
  {
   "cell_type": "code",
   "execution_count": 78,
   "metadata": {
    "collapsed": true
   },
   "outputs": [],
   "source": [
    "# no sent_token answer\n",
    "dev_pd['bidaf'] = dev_pd.apply(lambda row: '|||'.join([ phrase+':::'+score for phrase, score in  zip(bidaf[row['id']].split('|||'), bidaf['scores'][row['id']].split('|||'))          ]), axis=1)"
   ]
  },
  {
   "cell_type": "code",
   "execution_count": 79,
   "metadata": {},
   "outputs": [
    {
     "data": {
      "text/html": [
       "<div>\n",
       "<style>\n",
       "    .dataframe thead tr:only-child th {\n",
       "        text-align: right;\n",
       "    }\n",
       "\n",
       "    .dataframe thead th {\n",
       "        text-align: left;\n",
       "    }\n",
       "\n",
       "    .dataframe tbody tr th {\n",
       "        vertical-align: top;\n",
       "    }\n",
       "</style>\n",
       "<table border=\"1\" class=\"dataframe\">\n",
       "  <thead>\n",
       "    <tr style=\"text-align: right;\">\n",
       "      <th></th>\n",
       "      <th>id</th>\n",
       "      <th>context</th>\n",
       "      <th>question</th>\n",
       "      <th>ground_truth</th>\n",
       "      <th>bidaf</th>\n",
       "    </tr>\n",
       "  </thead>\n",
       "  <tbody>\n",
       "    <tr>\n",
       "      <th>0</th>\n",
       "      <td>9200ae8372eadcb43e5cfb816f185ef9</td>\n",
       "      <td>Start Up &amp; Rev of a 2006 Acura RL SH - AWD.Thi...</td>\n",
       "      <td>2006 acura rl horsepower</td>\n",
       "      <td>290 HP</td>\n",
       "      <td>290 HP:::0.5270|||3.5L:::0.8375|||V6:::0.6325</td>\n",
       "    </tr>\n",
       "    <tr>\n",
       "      <th>1</th>\n",
       "      <td>b7d7518b27e56604c9b868ba25565222</td>\n",
       "      <td>The income tax withholding rate remains at 4.2...</td>\n",
       "      <td>2015 michigan withholding tax rate</td>\n",
       "      <td>4.25 %</td>\n",
       "      <td>4.25 %:::0.9626|||$4,000:::0.9243|||for tax ye...</td>\n",
       "    </tr>\n",
       "    <tr>\n",
       "      <th>2</th>\n",
       "      <td>db5d9db86604d34be584b62c08b00634</td>\n",
       "      <td>The experts at Vidal Sassoon bring you salon c...</td>\n",
       "      <td>5rr hair color</td>\n",
       "      <td>Red</td>\n",
       "      <td>gray:::0.6504|||100 percent:::0.7665|||Vidal S...</td>\n",
       "    </tr>\n",
       "    <tr>\n",
       "      <th>3</th>\n",
       "      <td>92484e0e63e92f1412854e9516b8f8c3</td>\n",
       "      <td>Effects depend on the substance : hydrogen per...</td>\n",
       "      <td>acid that burns through skin</td>\n",
       "      <td>nitric acid|||hydrogen peroxide</td>\n",
       "      <td>nitric acid:::0.3067|||hydrogen peroxide:::0.8...</td>\n",
       "    </tr>\n",
       "    <tr>\n",
       "      <th>4</th>\n",
       "      <td>c8dcb86f8c0a1954ecd7931480b29441</td>\n",
       "      <td>Actor Nikolaj Coster - Waldau , the man who pl...</td>\n",
       "      <td>actor who plays jamie lannister</td>\n",
       "      <td>Nikolaj Coster|||Waldau</td>\n",
       "      <td>Waldau:::0.3101|||Nikolaj Coster:::0.9732|||Ac...</td>\n",
       "    </tr>\n",
       "  </tbody>\n",
       "</table>\n",
       "</div>"
      ],
      "text/plain": [
       "                                 id  \\\n",
       "0  9200ae8372eadcb43e5cfb816f185ef9   \n",
       "1  b7d7518b27e56604c9b868ba25565222   \n",
       "2  db5d9db86604d34be584b62c08b00634   \n",
       "3  92484e0e63e92f1412854e9516b8f8c3   \n",
       "4  c8dcb86f8c0a1954ecd7931480b29441   \n",
       "\n",
       "                                             context  \\\n",
       "0  Start Up & Rev of a 2006 Acura RL SH - AWD.Thi...   \n",
       "1  The income tax withholding rate remains at 4.2...   \n",
       "2  The experts at Vidal Sassoon bring you salon c...   \n",
       "3  Effects depend on the substance : hydrogen per...   \n",
       "4  Actor Nikolaj Coster - Waldau , the man who pl...   \n",
       "\n",
       "                             question                     ground_truth  \\\n",
       "0            2006 acura rl horsepower                           290 HP   \n",
       "1  2015 michigan withholding tax rate                           4.25 %   \n",
       "2                      5rr hair color                              Red   \n",
       "3        acid that burns through skin  nitric acid|||hydrogen peroxide   \n",
       "4     actor who plays jamie lannister          Nikolaj Coster|||Waldau   \n",
       "\n",
       "                                               bidaf  \n",
       "0      290 HP:::0.5270|||3.5L:::0.8375|||V6:::0.6325  \n",
       "1  4.25 %:::0.9626|||$4,000:::0.9243|||for tax ye...  \n",
       "2  gray:::0.6504|||100 percent:::0.7665|||Vidal S...  \n",
       "3  nitric acid:::0.3067|||hydrogen peroxide:::0.8...  \n",
       "4  Waldau:::0.3101|||Nikolaj Coster:::0.9732|||Ac...  "
      ]
     },
     "execution_count": 79,
     "metadata": {},
     "output_type": "execute_result"
    }
   ],
   "source": [
    "dev_pd.head(5)"
   ]
  },
  {
   "cell_type": "code",
   "execution_count": 80,
   "metadata": {},
   "outputs": [
    {
     "data": {
      "text/html": [
       "<div>\n",
       "<style>\n",
       "    .dataframe thead tr:only-child th {\n",
       "        text-align: right;\n",
       "    }\n",
       "\n",
       "    .dataframe thead th {\n",
       "        text-align: left;\n",
       "    }\n",
       "\n",
       "    .dataframe tbody tr th {\n",
       "        vertical-align: top;\n",
       "    }\n",
       "</style>\n",
       "<table border=\"1\" class=\"dataframe\">\n",
       "  <thead>\n",
       "    <tr style=\"text-align: right;\">\n",
       "      <th></th>\n",
       "      <th>id</th>\n",
       "      <th>context</th>\n",
       "      <th>question</th>\n",
       "      <th>ground_truth</th>\n",
       "      <th>bidaf</th>\n",
       "    </tr>\n",
       "  </thead>\n",
       "  <tbody>\n",
       "    <tr>\n",
       "      <th>159</th>\n",
       "      <td>92dc0ac40c712880b02b422dbd023cf2</td>\n",
       "      <td>For a hard - boiled egg , start the egg in col...</td>\n",
       "      <td>how long does it take to boil a hard boiled egg</td>\n",
       "      <td>7 - 10</td>\n",
       "      <td>7 - 10 minutes:::0.7651|||cold water and bring...</td>\n",
       "    </tr>\n",
       "  </tbody>\n",
       "</table>\n",
       "</div>"
      ],
      "text/plain": [
       "                                   id  \\\n",
       "159  92dc0ac40c712880b02b422dbd023cf2   \n",
       "\n",
       "                                               context  \\\n",
       "159  For a hard - boiled egg , start the egg in col...   \n",
       "\n",
       "                                            question ground_truth  \\\n",
       "159  how long does it take to boil a hard boiled egg       7 - 10   \n",
       "\n",
       "                                                 bidaf  \n",
       "159  7 - 10 minutes:::0.7651|||cold water and bring...  "
      ]
     },
     "execution_count": 80,
     "metadata": {},
     "output_type": "execute_result"
    }
   ],
   "source": [
    "dev_pd[dev_pd['id'] == '92dc0ac40c712880b02b422dbd023cf2']"
   ]
  },
  {
   "cell_type": "code",
   "execution_count": 81,
   "metadata": {},
   "outputs": [
    {
     "name": "stdout",
     "output_type": "stream",
     "text": [
      "15560\n",
      "15454\n"
     ]
    }
   ],
   "source": [
    "# prod model\n",
    "import pandas as pd\n",
    "col_names = ['id', 'Query', 'Url', 'Answer', 'AnswerTokenList', 'ParaseSpan', 'phrase', 'Label', 'Probability']\n",
    "prod = pd.read_csv('/home/t-honli/data/EQnA/EQnA_Highlighting_Test_ProdModel.tsv', header=None, sep='\\t', names=col_names, dtype=str).fillna('')\n",
    "\n",
    "print (len(prod))\n",
    "\n",
    "# 根据answer，query，url生成hash_id\n",
    "import hashlib\n",
    "def GetHashCode(context):\n",
    "    hash = hashlib.md5()\n",
    "    hash.update(context.encode('utf-8'))\n",
    "    return hash.hexdigest()\n",
    "prod['hash_id'] = prod.apply(lambda row: GetHashCode(row['Answer'] + ' ' + row['Query'] + ' ' + row['Url']), axis=1)\n",
    "\n",
    "prod = prod[prod.apply(lambda row: len(row['phrase'])<32, axis=1)]\n",
    "print (len(prod))"
   ]
  },
  {
   "cell_type": "code",
   "execution_count": 82,
   "metadata": {},
   "outputs": [
    {
     "name": "stdout",
     "output_type": "stream",
     "text": [
      "15454\n"
     ]
    }
   ],
   "source": [
    "# 获取hash_id, [(phrase,score)]\n",
    "multi_phrase_dict = {}\n",
    "def getPhrase(row):\n",
    "    if row['hash_id'] not in multi_phrase_dict:\n",
    "        multi_phrase_dict[row['hash_id']] = list()\n",
    "    row['Probability'] = '%.4f' % float(row['Probability'])\n",
    "    multi_phrase_dict[row['hash_id']].append(row['phrase'] + \":::\" + row['Probability'])\n",
    "prod.apply(getPhrase, axis=1)\n",
    "print (len(prod))"
   ]
  },
  {
   "cell_type": "code",
   "execution_count": 83,
   "metadata": {
    "collapsed": true
   },
   "outputs": [],
   "source": [
    "# sort\n",
    "for idx in list(multi_phrase_dict.keys()):\n",
    "    multi_phrase_dict[idx].sort(key=lambda x: float(x.split(':')[-1]), reverse=True)"
   ]
  },
  {
   "cell_type": "code",
   "execution_count": 84,
   "metadata": {
    "collapsed": true
   },
   "outputs": [],
   "source": [
    "dev_pd['prod'] = dev_pd.apply(lambda row: '|||'.join(multi_phrase_dict[row['id']]), axis=1)"
   ]
  },
  {
   "cell_type": "code",
   "execution_count": 132,
   "metadata": {
    "scrolled": true
   },
   "outputs": [
    {
     "data": {
      "text/html": [
       "<div>\n",
       "<style>\n",
       "    .dataframe thead tr:only-child th {\n",
       "        text-align: right;\n",
       "    }\n",
       "\n",
       "    .dataframe thead th {\n",
       "        text-align: left;\n",
       "    }\n",
       "\n",
       "    .dataframe tbody tr th {\n",
       "        vertical-align: top;\n",
       "    }\n",
       "</style>\n",
       "<table border=\"1\" class=\"dataframe\">\n",
       "  <thead>\n",
       "    <tr style=\"text-align: right;\">\n",
       "      <th></th>\n",
       "      <th>id</th>\n",
       "      <th>context</th>\n",
       "      <th>question</th>\n",
       "      <th>ground_truth</th>\n",
       "      <th>bidaf</th>\n",
       "      <th>prod</th>\n",
       "      <th>bidaf_single</th>\n",
       "      <th>prod_single</th>\n",
       "    </tr>\n",
       "  </thead>\n",
       "  <tbody>\n",
       "    <tr>\n",
       "      <th>0</th>\n",
       "      <td>9200ae8372eadcb43e5cfb816f185ef9</td>\n",
       "      <td>Start Up &amp; Rev of a 2006 Acura RL SH - AWD.Thi...</td>\n",
       "      <td>2006 acura rl horsepower</td>\n",
       "      <td>290 HP</td>\n",
       "      <td>290 HP:::0.5270|||3.5L:::0.8375|||V6:::0.6325</td>\n",
       "      <td>290 HP:::0.8149|||V6:::0.4651|||AWD.This:::0.3...</td>\n",
       "      <td>290 HP</td>\n",
       "      <td>290 HP</td>\n",
       "    </tr>\n",
       "    <tr>\n",
       "      <th>1</th>\n",
       "      <td>b7d7518b27e56604c9b868ba25565222</td>\n",
       "      <td>The income tax withholding rate remains at 4.2...</td>\n",
       "      <td>2015 michigan withholding tax rate</td>\n",
       "      <td>4.25 %</td>\n",
       "      <td>4.25 %:::0.9626|||$4,000:::0.9243|||for tax ye...</td>\n",
       "      <td>4.25 %:::0.8581|||$4,000:::0.6614|||2014:::0.0...</td>\n",
       "      <td>4.25 %</td>\n",
       "      <td>4.25 %</td>\n",
       "    </tr>\n",
       "    <tr>\n",
       "      <th>2</th>\n",
       "      <td>db5d9db86604d34be584b62c08b00634</td>\n",
       "      <td>The experts at Vidal Sassoon bring you salon c...</td>\n",
       "      <td>5rr hair color</td>\n",
       "      <td>Red</td>\n",
       "      <td>gray:::0.6504|||100 percent:::0.7665|||Vidal S...</td>\n",
       "      <td>Red:::0.9268|||gray:::0.9099|||Vidal Sassoon::...</td>\n",
       "      <td>gray</td>\n",
       "      <td>Red</td>\n",
       "    </tr>\n",
       "    <tr>\n",
       "      <th>3</th>\n",
       "      <td>92484e0e63e92f1412854e9516b8f8c3</td>\n",
       "      <td>Effects depend on the substance : hydrogen per...</td>\n",
       "      <td>acid that burns through skin</td>\n",
       "      <td>nitric acid|||hydrogen peroxide</td>\n",
       "      <td>nitric acid:::0.3067|||hydrogen peroxide:::0.8...</td>\n",
       "      <td>hydrogen peroxide:::0.4230|||nitric acid:::0.2...</td>\n",
       "      <td>nitric acid</td>\n",
       "      <td>hydrogen peroxide</td>\n",
       "    </tr>\n",
       "    <tr>\n",
       "      <th>4</th>\n",
       "      <td>c8dcb86f8c0a1954ecd7931480b29441</td>\n",
       "      <td>Actor Nikolaj Coster - Waldau , the man who pl...</td>\n",
       "      <td>actor who plays jamie lannister</td>\n",
       "      <td>Nikolaj Coster|||Waldau</td>\n",
       "      <td>Waldau:::0.3101|||Nikolaj Coster:::0.9732|||Ac...</td>\n",
       "      <td>Jaime:::0.7372|||Nikolaj Coster:::0.7275|||Wal...</td>\n",
       "      <td>Waldau</td>\n",
       "      <td>Jaime</td>\n",
       "    </tr>\n",
       "  </tbody>\n",
       "</table>\n",
       "</div>"
      ],
      "text/plain": [
       "                                 id  \\\n",
       "0  9200ae8372eadcb43e5cfb816f185ef9   \n",
       "1  b7d7518b27e56604c9b868ba25565222   \n",
       "2  db5d9db86604d34be584b62c08b00634   \n",
       "3  92484e0e63e92f1412854e9516b8f8c3   \n",
       "4  c8dcb86f8c0a1954ecd7931480b29441   \n",
       "\n",
       "                                             context  \\\n",
       "0  Start Up & Rev of a 2006 Acura RL SH - AWD.Thi...   \n",
       "1  The income tax withholding rate remains at 4.2...   \n",
       "2  The experts at Vidal Sassoon bring you salon c...   \n",
       "3  Effects depend on the substance : hydrogen per...   \n",
       "4  Actor Nikolaj Coster - Waldau , the man who pl...   \n",
       "\n",
       "                             question                     ground_truth  \\\n",
       "0            2006 acura rl horsepower                           290 HP   \n",
       "1  2015 michigan withholding tax rate                           4.25 %   \n",
       "2                      5rr hair color                              Red   \n",
       "3        acid that burns through skin  nitric acid|||hydrogen peroxide   \n",
       "4     actor who plays jamie lannister          Nikolaj Coster|||Waldau   \n",
       "\n",
       "                                               bidaf  \\\n",
       "0      290 HP:::0.5270|||3.5L:::0.8375|||V6:::0.6325   \n",
       "1  4.25 %:::0.9626|||$4,000:::0.9243|||for tax ye...   \n",
       "2  gray:::0.6504|||100 percent:::0.7665|||Vidal S...   \n",
       "3  nitric acid:::0.3067|||hydrogen peroxide:::0.8...   \n",
       "4  Waldau:::0.3101|||Nikolaj Coster:::0.9732|||Ac...   \n",
       "\n",
       "                                                prod bidaf_single  \\\n",
       "0  290 HP:::0.8149|||V6:::0.4651|||AWD.This:::0.3...       290 HP   \n",
       "1  4.25 %:::0.8581|||$4,000:::0.6614|||2014:::0.0...       4.25 %   \n",
       "2  Red:::0.9268|||gray:::0.9099|||Vidal Sassoon::...         gray   \n",
       "3  hydrogen peroxide:::0.4230|||nitric acid:::0.2...  nitric acid   \n",
       "4  Jaime:::0.7372|||Nikolaj Coster:::0.7275|||Wal...       Waldau   \n",
       "\n",
       "         prod_single  \n",
       "0             290 HP  \n",
       "1             4.25 %  \n",
       "2                Red  \n",
       "3  hydrogen peroxide  \n",
       "4              Jaime  "
      ]
     },
     "execution_count": 132,
     "metadata": {},
     "output_type": "execute_result"
    }
   ],
   "source": [
    "#pd.set_option('max_colwidth', 200)\n",
    "dev_pd.head(5)"
   ]
  },
  {
   "cell_type": "code",
   "execution_count": 188,
   "metadata": {},
   "outputs": [
    {
     "name": "stdout",
     "output_type": "stream",
     "text": [
      "bidaf not match: 462/2021 0.22859970311726868 0.7714002968827314\n",
      "bidaf not cover: 252/2021 0.12469074715487383 0.8753092528451262\n",
      "1006 1769\n",
      "prod not match: 278/2021 0.1375556655121227 0.8624443344878773\n",
      "prod not cover: 252/2021 0.12469074715487383 0.8753092528451262\n",
      "1451 1769\n",
      "bidaf and prod union  1934 2021\n"
     ]
    }
   ],
   "source": [
    "# the top1 is not in answers case  EM 472/2021\n",
    "import string\n",
    "import re\n",
    "def normalize_answer(s):\n",
    "    \"\"\"Lower text and remove punctuation, articles and extra whitespace.\"\"\"\n",
    "    def remove_articles(text):\n",
    "        return re.sub(r'\\b(a|an|the)\\b', ' ', text)\n",
    "\n",
    "    def white_space_fix(text):\n",
    "        return ' '.join(text.split())\n",
    "\n",
    "    def remove_punc(text):\n",
    "        exclude = set(string.punctuation)\n",
    "        return ''.join(ch for ch in text if ch not in exclude)\n",
    "\n",
    "    def lower(text):\n",
    "        return text.lower()\n",
    "\n",
    "    return white_space_fix(remove_articles(remove_punc(lower(s))))\n",
    "\n",
    "# match\n",
    "def filterNotTop1Ans(row):\n",
    "    grounds = row['ground_truth'].split('|||')\n",
    "    bidaf = row['bidaf'].split('|||')[0].split(':::')[0]\n",
    "    if normalize_answer(bidaf) not in set(map(lambda x: normalize_answer(x), grounds)):\n",
    "        return True\n",
    "    else:\n",
    "        return False\n",
    "# cover\n",
    "def filterNotTop1Ans_cover(row):\n",
    "    grounds = row['ground_truth'].split('|||')\n",
    "    bidaf = normalize_answer(row['bidaf'].split('|||')[0].split(':::')[0])\n",
    "    for ground in map(lambda x: normalize_answer(x), grounds):\n",
    "        if bidaf in ground or ground in bidaf:\n",
    "            return False\n",
    "    return True\n",
    "\n",
    "# match\n",
    "def filterProdNotTop1Ans(row):\n",
    "    grounds = row['ground_truth'].split('|||')\n",
    "    bidaf = row['prod'].split('|||')[0].split(':::')[0]\n",
    "    if normalize_answer(bidaf) not in set(map(lambda x: normalize_answer(x), grounds)):\n",
    "        return True\n",
    "    else:\n",
    "        return False\n",
    "    \n",
    "# cover\n",
    "def filterProdNotTop1Ans_cover(row):\n",
    "    grounds = row['ground_truth'].split('|||')\n",
    "    prod = normalize_answer(row['prod'].split('|||')[0].split(':::')[0])\n",
    "    for ground in map(lambda x: normalize_answer(x), grounds):\n",
    "        if prod in ground or ground in prod:\n",
    "            return False\n",
    "    return True\n",
    "\n",
    "# bidaf match\n",
    "notTop1index = dev_pd.apply(filterNotTop1Ans, axis=1)\n",
    "notTop1Ans = dev_pd[notTop1index]\n",
    "top1index = notTop1index.apply(lambda x: not x)\n",
    "Top1Ans = dev_pd[top1index]\n",
    "print ('bidaf not match:', str(len(notTop1Ans))+'/'+str(len(dev_pd)), 1.0*len(notTop1Ans)/len(dev_pd), 1-1.0*len(notTop1Ans)/len(dev_pd))\n",
    "\n",
    "# bidaf not match\n",
    "bidaf_notMatch = notTop1index.values\n",
    "\n",
    "# bidaf cover\n",
    "notTop1index = dev_pd.apply(filterNotTop1Ans_cover, axis=1)\n",
    "notTop1Ans = dev_pd[notTop1index]\n",
    "top1index = notTop1index.apply(lambda x: not x)\n",
    "Top1Ans = dev_pd[top1index]\n",
    "print ('bidaf not cover:', str(len(notTop1Ans))+'/'+str(len(dev_pd)), 1.0*len(notTop1Ans)/len(dev_pd), 1-1.0*len(notTop1Ans)/len(dev_pd))\n",
    "notTop1Ans.to_csv('/home/t-honli/bi-att-flow/out/scripts/data/bidaf_notTop1Ans.tsv', header=True, index=None, columns=['id', 'context', 'question', 'ground_truth', 'bidaf', 'prod'], sep='\\t')\n",
    "\n",
    "# bidaf not cover\n",
    "bidaf_notCover = notTop1index.values\n",
    "\n",
    "# bidaf not match - not cover\n",
    "bidaf_addCover = [ notMatch ^ notCover for notMatch, notCover in zip(bidaf_notMatch, bidaf_notCover)]\n",
    "dev_pd[bidaf_addCover].to_csv('/home/t-honli/bi-att-flow/out/scripts/data/bidaf_addCover.tsv', header=True, index=None, columns=['id', 'context', 'question', 'ground_truth', 'bidaf', 'prod'], sep='\\t')\n",
    "\n",
    "# bidaf top1 and socre > 0.36\n",
    "bidaf_cover = Top1Ans.apply(lambda x: float(x['bidaf'].split('|||')[0].split(':::')[1]) > 0.36, axis=1)\n",
    "print (sum(bidaf_cover) , len(Top1Ans))\n",
    "\n",
    "# bidaf top1 \n",
    "bidaf_cover_top1 = top1index.values\n",
    "\n",
    "# prod match\n",
    "notTop1index = dev_pd.apply(filterProdNotTop1Ans, axis=1)\n",
    "notTop1Ans = dev_pd[notTop1index]\n",
    "top1index = notTop1index.apply(lambda x: not x)\n",
    "Top1Ans = dev_pd[top1index]\n",
    "print ('prod not match:', str(len(notTop1Ans))+'/'+str(len(dev_pd)), 1.0*len(notTop1Ans)/len(dev_pd), 1-1.0*len(notTop1Ans)/len(dev_pd))\n",
    "\n",
    "# prod cover\n",
    "notTop1index = dev_pd.apply(filterProdNotTop1Ans_cover, axis=1)\n",
    "notTop1Ans = dev_pd[notTop1index]\n",
    "top1index = notTop1index.apply(lambda x: not x)\n",
    "Top1Ans = dev_pd[top1index]\n",
    "print ('prod not cover:', str(len(notTop1Ans))+'/'+str(len(dev_pd)), 1.0*len(notTop1Ans)/len(dev_pd), 1-1.0*len(notTop1Ans)/len(dev_pd))\n",
    "notTop1Ans.to_csv('/home/t-honli/bi-att-flow/out/scripts/data/prod_notTop1Ans.tsv', header=True, index=None, columns=['id', 'context', 'question', 'ground_truth', 'bidaf', 'prod'], sep='\\t')\n",
    "\n",
    "# prod top1 and socre > 0.6\n",
    "prod_cover = Top1Ans.apply(lambda x: float(x['prod'].split('|||')[0].split(':::')[1]) > 0.6, axis=1)\n",
    "print (sum(prod_cover) , len(Top1Ans))\n",
    "\n",
    "# prod top1 \n",
    "prod_cover_top1 = top1index.values\n",
    "\n",
    "# unlimit cover union\n",
    "unlimt_union = [bidaf or prod for bidaf, prod in zip(bidaf_cover_top1, prod_cover_top1)]\n",
    "print ('bidaf and prod union ', sum(unlimt_union), len(unlimt_union))\n"
   ]
  },
  {
   "cell_type": "code",
   "execution_count": 187,
   "metadata": {},
   "outputs": [
    {
     "name": "stdout",
     "output_type": "stream",
     "text": [
      "1006\n",
      "1451\n",
      "bidaf and prod limit union  1705 2021\n"
     ]
    }
   ],
   "source": [
    "# bidaf cover > 0.36 | prod cover > 0.6 union\n",
    "bidaf_limit = dev_pd.apply(lambda x: float(x['bidaf'].split('|||')[0].split(':::')[1]) > 0.36, axis=1).values\n",
    "bidaf_limit = [bidaf and valid for bidaf, valid in zip(bidaf_limit, bidaf_cover_top1)]\n",
    "print (sum(bidaf_limit))\n",
    "\n",
    "prod_limit = dev_pd.apply(lambda x: float(x['prod'].split('|||')[0].split(':::')[1]) > 0.6, axis=1).values\n",
    "prod_limit =  [prod and valid for prod, valid in zip(prod_limit, prod_cover_top1)] \n",
    "print (sum(prod_limit))\n",
    "\n",
    "limit_union = [bidaf or prod for bidaf, prod in zip(bidaf_limit, prod_limit)]\n",
    "print ('bidaf and prod limit union ', sum(limit_union), len(limit_union))"
   ]
  },
  {
   "cell_type": "code",
   "execution_count": 57,
   "metadata": {},
   "outputs": [
    {
     "name": "stdout",
     "output_type": "stream",
     "text": [
      "[b'{\"exact_match\": 76.69470559129144, \"f1\": 82.9467874158819}\\n']\n"
     ]
    }
   ],
   "source": [
    "# single top1 origin\n",
    "import os\n",
    "from subprocess import Popen, PIPE\n",
    "work_dir = '/home/t-honli/bi-att-flow'\n",
    "os.chdir(work_dir)\n",
    "print (Popen(\"python squad/evaluate-v1.1.py $HOME/data/EQnA/dev-v1.1.json out/EQnA/03-07-2017/answer/single.json\", shell=True, stdout=PIPE, stderr=PIPE).stdout.readlines())"
   ]
  },
  {
   "cell_type": "code",
   "execution_count": 68,
   "metadata": {},
   "outputs": [
    {
     "name": "stdout",
     "output_type": "stream",
     "text": [
      "[b'{\"exact_match\": 77.14002968827313, \"f1\": 83.41632514874934}\\n']\n"
     ]
    }
   ],
   "source": [
    "# single top1 no sentence token (used)\n",
    "import os\n",
    "from subprocess import Popen, PIPE\n",
    "work_dir = '/home/t-honli/bi-att-flow'\n",
    "os.chdir(work_dir)\n",
    "print (Popen(\"python squad/evaluate-v1.1.py $HOME/data/EQnA/dev-v1.1.json out/EQnA/no_sent_token/18-07-2017/answer/single.json\", shell=True, stdout=PIPE, stderr=PIPE).stdout.readlines())"
   ]
  },
  {
   "cell_type": "code",
   "execution_count": 69,
   "metadata": {},
   "outputs": [
    {
     "name": "stdout",
     "output_type": "stream",
     "text": [
      "[b'{\"exact_match\": 75.65561603166749, \"f1\": 82.3026645625083}\\n']\n"
     ]
    }
   ],
   "source": [
    "# single top1 sentence token\n",
    "import os\n",
    "from subprocess import Popen, PIPE\n",
    "work_dir = '/home/t-honli/bi-att-flow'\n",
    "os.chdir(work_dir)\n",
    "print (Popen(\"python squad/evaluate-v1.1.py $HOME/data/EQnA/dev-v1.1.json out/EQnA/sent_token/18-07-2017/answer/single.json\", shell=True, stdout=PIPE, stderr=PIPE).stdout.readlines())"
   ]
  },
  {
   "cell_type": "code",
   "execution_count": 163,
   "metadata": {},
   "outputs": [
    {
     "name": "stdout",
     "output_type": "stream",
     "text": [
      "[b'{\"exact_match\": 74.3691241959426, \"f1\": 80.315737065916}\\n']\n"
     ]
    }
   ],
   "source": [
    "# trick test bidaf EM and F1 one slot case\n",
    "bidaf_single_dict = dict()\n",
    "def getBidafSingleAnswer(row):\n",
    "    global bidaf_single_dict\n",
    "    spans = row['bidaf'].split('|||')\n",
    "    \n",
    "    # 只对一个answer的case采用tricks，从第一个开始找，大于阈值就返回\n",
    "    if len(row['ground_truth'].split('|||') ) == 1:\n",
    "        for idx, span in enumerate(spans):\n",
    "            ans, score = span.split(':::')\n",
    "            if float(score) > 0.5:\n",
    "                bidaf_single_dict[row['id']] = ans\n",
    "                return ans\n",
    "            \n",
    "    bidaf_single_dict[row['id']] = spans[0].split(':::')[0]\n",
    "    return spans[0].split(':::')[0]\n",
    "dev_pd['bidaf_single'] = dev_pd.apply(getBidafSingleAnswer, axis=1)\n",
    "\n",
    "with open('bidaf_single.json', 'w') as json_file:\n",
    "    json_file.write(json.dumps(bidaf_single_dict))\n",
    "\n",
    "# single top1\n",
    "import os\n",
    "from subprocess import Popen, PIPE\n",
    "work_dir = '/home/t-honli/bi-att-flow'\n",
    "os.chdir(work_dir)\n",
    "print (Popen(\"python squad/evaluate-v1.1.py $HOME/data/EQnA/dev-v1.1.json bidaf_single.json\", shell=True, stdout=PIPE, stderr=PIPE).stdout.readlines())"
   ]
  },
  {
   "cell_type": "code",
   "execution_count": 156,
   "metadata": {},
   "outputs": [
    {
     "name": "stdout",
     "output_type": "stream",
     "text": [
      "[b'{\"exact_match\": 71.25185551707075, \"f1\": 71.93880917037772}\\n']\n"
     ]
    }
   ],
   "source": [
    "# limit test prod EM and F1\n",
    "prod_single_dict = dict()\n",
    "def getProdSingleAnswer(row):\n",
    "    global prod_single_dict\n",
    "    spans = row['prod'].split('|||')\n",
    "    \n",
    "    if float(spans[0].split(':::')[1]) > 0.6:\n",
    "        prod_single_dict[row['id']] = spans[0].split(':::')[0]\n",
    "        return spans[0].split(':::')[0]\n",
    "    else:\n",
    "        prod_single_dict[row['id']] = ''\n",
    "        return ''\n",
    "    \n",
    "dev_pd['prod_single'] = dev_pd.apply(getProdSingleAnswer, axis=1)\n",
    "\n",
    "with open('prod_single.json', 'w') as json_file:\n",
    "    json_file.write(json.dumps(prod_single_dict))\n",
    "\n",
    "# single top1\n",
    "import os\n",
    "from subprocess import Popen, PIPE\n",
    "work_dir = '/home/t-honli/bi-att-flow'\n",
    "os.chdir(work_dir)\n",
    "print (Popen(\"python squad/evaluate-v1.1.py $HOME/data/EQnA/dev-v1.1.json prod_single.json\", shell=True, stdout=PIPE, stderr=PIPE).stdout.readlines())"
   ]
  },
  {
   "cell_type": "code",
   "execution_count": 164,
   "metadata": {},
   "outputs": [
    {
     "name": "stdout",
     "output_type": "stream",
     "text": [
      "[b'{\"exact_match\": 64.42355269668481, \"f1\": 66.76892627412171}\\n']\n"
     ]
    }
   ],
   "source": [
    "# trick test bidaf EM and F1 add case\n",
    "bidaf_single_dict = dict()\n",
    "def getBidafSingleAnswer(row):\n",
    "    global bidaf_single_dict\n",
    "    spans = row['bidaf'].split('|||')\n",
    "    \n",
    "    # 多所有answer的case采用tricks，从第一个开始找，大于阈值就返回\n",
    "    for idx, span in enumerate(spans):\n",
    "        ans, score = span.split(':::')\n",
    "        if float(score) > 0.36:\n",
    "            bidaf_single_dict[row['id']] = ans\n",
    "            return ans\n",
    "            \n",
    "    bidaf_single_dict[row['id']] = ''\n",
    "    return ''\n",
    "dev_pd['bidaf_single'] = dev_pd.apply(getBidafSingleAnswer, axis=1)\n",
    "\n",
    "with open('bidaf_single.json', 'w') as json_file:\n",
    "    json_file.write(json.dumps(bidaf_single_dict))\n",
    "\n",
    "# single top1\n",
    "import os\n",
    "from subprocess import Popen, PIPE\n",
    "work_dir = '/home/t-honli/bi-att-flow'\n",
    "os.chdir(work_dir)\n",
    "print (Popen(\"python squad/evaluate-v1.1.py $HOME/data/EQnA/dev-v1.1.json bidaf_single.json\", shell=True, stdout=PIPE, stderr=PIPE).stdout.readlines())"
   ]
  },
  {
   "cell_type": "code",
   "execution_count": 95,
   "metadata": {},
   "outputs": [
    {
     "data": {
      "text/html": [
       "<div>\n",
       "<style>\n",
       "    .dataframe thead tr:only-child th {\n",
       "        text-align: right;\n",
       "    }\n",
       "\n",
       "    .dataframe thead th {\n",
       "        text-align: left;\n",
       "    }\n",
       "\n",
       "    .dataframe tbody tr th {\n",
       "        vertical-align: top;\n",
       "    }\n",
       "</style>\n",
       "<table border=\"1\" class=\"dataframe\">\n",
       "  <thead>\n",
       "    <tr style=\"text-align: right;\">\n",
       "      <th></th>\n",
       "      <th>id</th>\n",
       "      <th>context</th>\n",
       "      <th>question</th>\n",
       "      <th>ground_truth</th>\n",
       "      <th>bidaf</th>\n",
       "      <th>prod</th>\n",
       "      <th>bidaf_single</th>\n",
       "      <th>prod_single</th>\n",
       "    </tr>\n",
       "  </thead>\n",
       "  <tbody>\n",
       "    <tr>\n",
       "      <th>0</th>\n",
       "      <td>9200ae8372eadcb43e5cfb816f185ef9</td>\n",
       "      <td>Start Up &amp; Rev of a 2006 Acura RL SH - AWD.Thi...</td>\n",
       "      <td>2006 acura rl horsepower</td>\n",
       "      <td>290 HP</td>\n",
       "      <td>290 HP:::0.5270|||3.5L:::0.8375|||V6:::0.6325</td>\n",
       "      <td>290 HP:::0.8149|||V6:::0.4651|||AWD.This:::0.3...</td>\n",
       "      <td>290 HP</td>\n",
       "      <td>290 HP</td>\n",
       "    </tr>\n",
       "    <tr>\n",
       "      <th>1</th>\n",
       "      <td>b7d7518b27e56604c9b868ba25565222</td>\n",
       "      <td>The income tax withholding rate remains at 4.2...</td>\n",
       "      <td>2015 michigan withholding tax rate</td>\n",
       "      <td>4.25 %</td>\n",
       "      <td>4.25 %:::0.9626|||$4,000:::0.9243|||for tax ye...</td>\n",
       "      <td>4.25 %:::0.8581|||$4,000:::0.6614|||2014:::0.0...</td>\n",
       "      <td>4.25 %</td>\n",
       "      <td>4.25 %</td>\n",
       "    </tr>\n",
       "    <tr>\n",
       "      <th>2</th>\n",
       "      <td>db5d9db86604d34be584b62c08b00634</td>\n",
       "      <td>The experts at Vidal Sassoon bring you salon c...</td>\n",
       "      <td>5rr hair color</td>\n",
       "      <td>Red</td>\n",
       "      <td>gray:::0.6504|||100 percent:::0.7665|||Vidal S...</td>\n",
       "      <td>Red:::0.9268|||gray:::0.9099|||Vidal Sassoon::...</td>\n",
       "      <td>gray</td>\n",
       "      <td>Red</td>\n",
       "    </tr>\n",
       "    <tr>\n",
       "      <th>3</th>\n",
       "      <td>92484e0e63e92f1412854e9516b8f8c3</td>\n",
       "      <td>Effects depend on the substance : hydrogen per...</td>\n",
       "      <td>acid that burns through skin</td>\n",
       "      <td>nitric acid|||hydrogen peroxide</td>\n",
       "      <td>nitric acid:::0.3067|||hydrogen peroxide:::0.8...</td>\n",
       "      <td>hydrogen peroxide:::0.4230|||nitric acid:::0.2...</td>\n",
       "      <td>nitric acid</td>\n",
       "      <td>hydrogen peroxide</td>\n",
       "    </tr>\n",
       "    <tr>\n",
       "      <th>4</th>\n",
       "      <td>c8dcb86f8c0a1954ecd7931480b29441</td>\n",
       "      <td>Actor Nikolaj Coster - Waldau , the man who pl...</td>\n",
       "      <td>actor who plays jamie lannister</td>\n",
       "      <td>Nikolaj Coster|||Waldau</td>\n",
       "      <td>Waldau:::0.3101|||Nikolaj Coster:::0.9732|||Ac...</td>\n",
       "      <td>Jaime:::0.7372|||Nikolaj Coster:::0.7275|||Wal...</td>\n",
       "      <td>Waldau</td>\n",
       "      <td>Jaime</td>\n",
       "    </tr>\n",
       "  </tbody>\n",
       "</table>\n",
       "</div>"
      ],
      "text/plain": [
       "                                 id  \\\n",
       "0  9200ae8372eadcb43e5cfb816f185ef9   \n",
       "1  b7d7518b27e56604c9b868ba25565222   \n",
       "2  db5d9db86604d34be584b62c08b00634   \n",
       "3  92484e0e63e92f1412854e9516b8f8c3   \n",
       "4  c8dcb86f8c0a1954ecd7931480b29441   \n",
       "\n",
       "                                             context  \\\n",
       "0  Start Up & Rev of a 2006 Acura RL SH - AWD.Thi...   \n",
       "1  The income tax withholding rate remains at 4.2...   \n",
       "2  The experts at Vidal Sassoon bring you salon c...   \n",
       "3  Effects depend on the substance : hydrogen per...   \n",
       "4  Actor Nikolaj Coster - Waldau , the man who pl...   \n",
       "\n",
       "                             question                     ground_truth  \\\n",
       "0            2006 acura rl horsepower                           290 HP   \n",
       "1  2015 michigan withholding tax rate                           4.25 %   \n",
       "2                      5rr hair color                              Red   \n",
       "3        acid that burns through skin  nitric acid|||hydrogen peroxide   \n",
       "4     actor who plays jamie lannister          Nikolaj Coster|||Waldau   \n",
       "\n",
       "                                               bidaf  \\\n",
       "0      290 HP:::0.5270|||3.5L:::0.8375|||V6:::0.6325   \n",
       "1  4.25 %:::0.9626|||$4,000:::0.9243|||for tax ye...   \n",
       "2  gray:::0.6504|||100 percent:::0.7665|||Vidal S...   \n",
       "3  nitric acid:::0.3067|||hydrogen peroxide:::0.8...   \n",
       "4  Waldau:::0.3101|||Nikolaj Coster:::0.9732|||Ac...   \n",
       "\n",
       "                                                prod bidaf_single  \\\n",
       "0  290 HP:::0.8149|||V6:::0.4651|||AWD.This:::0.3...       290 HP   \n",
       "1  4.25 %:::0.8581|||$4,000:::0.6614|||2014:::0.0...       4.25 %   \n",
       "2  Red:::0.9268|||gray:::0.9099|||Vidal Sassoon::...         gray   \n",
       "3  hydrogen peroxide:::0.4230|||nitric acid:::0.2...  nitric acid   \n",
       "4  Jaime:::0.7372|||Nikolaj Coster:::0.7275|||Wal...       Waldau   \n",
       "\n",
       "         prod_single  \n",
       "0             290 HP  \n",
       "1             4.25 %  \n",
       "2                Red  \n",
       "3  hydrogen peroxide  \n",
       "4              Jaime  "
      ]
     },
     "execution_count": 95,
     "metadata": {},
     "output_type": "execute_result"
    }
   ],
   "source": [
    "dev_pd.head(5)"
   ]
  },
  {
   "cell_type": "code",
   "execution_count": 37,
   "metadata": {
    "collapsed": true
   },
   "outputs": [],
   "source": [
    "dev_pd.to_csv('./sample_multi.tsv', header=True, index=None, sep='\\t')"
   ]
  },
  {
   "cell_type": "code",
   "execution_count": 38,
   "metadata": {
    "collapsed": true
   },
   "outputs": [],
   "source": [
    "# add score\n",
    "# SampleAndCompactMulti.ipynb add threshold\n",
    "# generate_prodformat_label.ipynb change bidaf data to prod format"
   ]
  }
 ],
 "metadata": {
  "kernelspec": {
   "display_name": "Python 3",
   "language": "python",
   "name": "python3"
  },
  "language_info": {
   "codemirror_mode": {
    "name": "ipython",
    "version": 3
   },
   "file_extension": ".py",
   "mimetype": "text/x-python",
   "name": "python",
   "nbconvert_exporter": "python",
   "pygments_lexer": "ipython3",
   "version": "3.5.3"
  }
 },
 "nbformat": 4,
 "nbformat_minor": 2
}
